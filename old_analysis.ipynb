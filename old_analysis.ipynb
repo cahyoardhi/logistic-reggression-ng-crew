{
  "nbformat": 4,
  "nbformat_minor": 0,
  "metadata": {
    "language_info": {
      "name": "python",
      "codemirror_mode": {
        "name": "ipython",
        "version": 3
      },
      "version": "3.7.7-final"
    },
    "orig_nbformat": 2,
    "file_extension": ".py",
    "mimetype": "text/x-python",
    "name": "python",
    "npconvert_exporter": "python",
    "pygments_lexer": "ipython3",
    "version": 3,
    "kernelspec": {
      "name": "python37664bitbasecondaabea00532505455fa020fee0000a07d7",
      "display_name": "Python 3.7.6 64-bit ('base': conda)"
    },
    "colab": {
      "name": "analysis.ipynb",
      "provenance": [],
      "collapsed_sections": [],
      "toc_visible": true
    }
  },
  "cells": [
    {
      "cell_type": "markdown",
      "metadata": {
        "colab_type": "text",
        "id": "MQduac2k1Jxk"
      },
      "source": [
        "![title](image/title.png)\n",
        "# THIS REPOSITORY IS CREATED BY:\n",
        "Ng Crew\n",
        "\n",
        "1. Sebastian Cahyo Ardhi Iswara 1103174174\n",
        "2. Adli Farhan Ibrahim 1103174092"
      ]
    },
    {
      "cell_type": "markdown",
      "metadata": {
        "id": "H5ojmq431Jxn",
        "colab_type": "text"
      },
      "source": [
        "# The workflow of this machine learning task:\n",
        "![title](image/workflow.png)\n",
        "\n",
        "\n",
        "1. Data Collection\n",
        "2. Data Preprocessing\n",
        "3. Data Normalization\n",
        "4. Model Training\n",
        "5. Model Validation"
      ]
    },
    {
      "cell_type": "markdown",
      "metadata": {
        "id": "u8ogpIJ71Jxp",
        "colab_type": "text"
      },
      "source": [
        "# Dependency to run this project:\n",
        "1. Python 3.XX (Im using 3.77)\n",
        "2. Jupyterlab (For run ipynb / notebook)\n",
        "3. Pandas (For data analysis and processing)\n",
        "4. matplotlib (For data visualization and Dependency for seaborn)\n",
        "5. seaborn (For data visualization)\n",
        "4. Sklearn (For data preprocessing and machine learning algorithm)"
      ]
    },
    {
      "cell_type": "markdown",
      "metadata": {
        "id": "Yr7OMi521Jxs",
        "colab_type": "text"
      },
      "source": [
        "# 0. Module Import\n",
        "The first step is we need to import module that used in this project"
      ]
    },
    {
      "cell_type": "code",
      "metadata": {
        "id": "hmt1zXiT1Jxu",
        "colab_type": "code",
        "colab": {}
      },
      "source": [
        "import pandas as pd\n",
        "from matplotlib import pyplot as plt\n",
        "import seaborn as sns\n",
        "import numpy as np\n",
        "from sklearn.preprocessing import LabelEncoder\n",
        "from sklearn.preprocessing import RobustScaler\n",
        "from sklearn.model_selection import RandomizedSearchCV\n",
        "from sklearn.model_selection import train_test_split\n",
        "from sklearn.model_selection import cross_val_score\n",
        "from sklearn.metrics import accuracy_score\n",
        "from sklearn.metrics import classification_report\n",
        "from sklearn.metrics import confusion_matrix\n",
        "from sklearn.linear_model import LogisticRegression"
      ],
      "execution_count": 0,
      "outputs": []
    },
    {
      "cell_type": "markdown",
      "metadata": {
        "id": "Y0ZpmM5P1Jx1",
        "colab_type": "text"
      },
      "source": [
        "# 1. Data Collection\n",
        "in this section, we need to collect our data. We use Bank Marketing Data Set from UCI Dataset, the goals of this dataset is to predict is that particular customer is suitable to offer some promotion or not.\n",
        "\n",
        "dataset source: https://archive.ics.uci.edu/ml/datasets/Bank+Marketing\n",
        "\n",
        "![title](image/dataset.png)"
      ]
    },
    {
      "cell_type": "code",
      "metadata": {
        "id": "hVpEi3nM1Jx3",
        "colab_type": "code",
        "colab": {
          "base_uri": "https://localhost:8080/",
          "height": 215
        },
        "outputId": "19ba05b2-f9ff-4c71-b4c5-83457067f00b"
      },
      "source": [
        "pd.set_option('display.max_columns', None)\n",
        "df = pd.read_csv('dataset/bank-additional-full.csv',sep=';')\n",
        "df.head()"
      ],
      "execution_count": 42,
      "outputs": [
        {
          "output_type": "execute_result",
          "data": {
            "text/html": [
              "<div>\n",
              "<style scoped>\n",
              "    .dataframe tbody tr th:only-of-type {\n",
              "        vertical-align: middle;\n",
              "    }\n",
              "\n",
              "    .dataframe tbody tr th {\n",
              "        vertical-align: top;\n",
              "    }\n",
              "\n",
              "    .dataframe thead th {\n",
              "        text-align: right;\n",
              "    }\n",
              "</style>\n",
              "<table border=\"1\" class=\"dataframe\">\n",
              "  <thead>\n",
              "    <tr style=\"text-align: right;\">\n",
              "      <th></th>\n",
              "      <th>age</th>\n",
              "      <th>job</th>\n",
              "      <th>marital</th>\n",
              "      <th>education</th>\n",
              "      <th>default</th>\n",
              "      <th>housing</th>\n",
              "      <th>loan</th>\n",
              "      <th>contact</th>\n",
              "      <th>month</th>\n",
              "      <th>day_of_week</th>\n",
              "      <th>duration</th>\n",
              "      <th>campaign</th>\n",
              "      <th>pdays</th>\n",
              "      <th>previous</th>\n",
              "      <th>poutcome</th>\n",
              "      <th>emp.var.rate</th>\n",
              "      <th>cons.price.idx</th>\n",
              "      <th>cons.conf.idx</th>\n",
              "      <th>euribor3m</th>\n",
              "      <th>nr.employed</th>\n",
              "      <th>y</th>\n",
              "    </tr>\n",
              "  </thead>\n",
              "  <tbody>\n",
              "    <tr>\n",
              "      <th>0</th>\n",
              "      <td>56</td>\n",
              "      <td>housemaid</td>\n",
              "      <td>married</td>\n",
              "      <td>basic.4y</td>\n",
              "      <td>no</td>\n",
              "      <td>no</td>\n",
              "      <td>no</td>\n",
              "      <td>telephone</td>\n",
              "      <td>may</td>\n",
              "      <td>mon</td>\n",
              "      <td>261</td>\n",
              "      <td>1</td>\n",
              "      <td>999</td>\n",
              "      <td>0</td>\n",
              "      <td>nonexistent</td>\n",
              "      <td>1.1</td>\n",
              "      <td>93.994</td>\n",
              "      <td>-36.4</td>\n",
              "      <td>4.857</td>\n",
              "      <td>5191.0</td>\n",
              "      <td>no</td>\n",
              "    </tr>\n",
              "    <tr>\n",
              "      <th>1</th>\n",
              "      <td>57</td>\n",
              "      <td>services</td>\n",
              "      <td>married</td>\n",
              "      <td>high.school</td>\n",
              "      <td>unknown</td>\n",
              "      <td>no</td>\n",
              "      <td>no</td>\n",
              "      <td>telephone</td>\n",
              "      <td>may</td>\n",
              "      <td>mon</td>\n",
              "      <td>149</td>\n",
              "      <td>1</td>\n",
              "      <td>999</td>\n",
              "      <td>0</td>\n",
              "      <td>nonexistent</td>\n",
              "      <td>1.1</td>\n",
              "      <td>93.994</td>\n",
              "      <td>-36.4</td>\n",
              "      <td>4.857</td>\n",
              "      <td>5191.0</td>\n",
              "      <td>no</td>\n",
              "    </tr>\n",
              "    <tr>\n",
              "      <th>2</th>\n",
              "      <td>37</td>\n",
              "      <td>services</td>\n",
              "      <td>married</td>\n",
              "      <td>high.school</td>\n",
              "      <td>no</td>\n",
              "      <td>yes</td>\n",
              "      <td>no</td>\n",
              "      <td>telephone</td>\n",
              "      <td>may</td>\n",
              "      <td>mon</td>\n",
              "      <td>226</td>\n",
              "      <td>1</td>\n",
              "      <td>999</td>\n",
              "      <td>0</td>\n",
              "      <td>nonexistent</td>\n",
              "      <td>1.1</td>\n",
              "      <td>93.994</td>\n",
              "      <td>-36.4</td>\n",
              "      <td>4.857</td>\n",
              "      <td>5191.0</td>\n",
              "      <td>no</td>\n",
              "    </tr>\n",
              "    <tr>\n",
              "      <th>3</th>\n",
              "      <td>40</td>\n",
              "      <td>admin.</td>\n",
              "      <td>married</td>\n",
              "      <td>basic.6y</td>\n",
              "      <td>no</td>\n",
              "      <td>no</td>\n",
              "      <td>no</td>\n",
              "      <td>telephone</td>\n",
              "      <td>may</td>\n",
              "      <td>mon</td>\n",
              "      <td>151</td>\n",
              "      <td>1</td>\n",
              "      <td>999</td>\n",
              "      <td>0</td>\n",
              "      <td>nonexistent</td>\n",
              "      <td>1.1</td>\n",
              "      <td>93.994</td>\n",
              "      <td>-36.4</td>\n",
              "      <td>4.857</td>\n",
              "      <td>5191.0</td>\n",
              "      <td>no</td>\n",
              "    </tr>\n",
              "    <tr>\n",
              "      <th>4</th>\n",
              "      <td>56</td>\n",
              "      <td>services</td>\n",
              "      <td>married</td>\n",
              "      <td>high.school</td>\n",
              "      <td>no</td>\n",
              "      <td>no</td>\n",
              "      <td>yes</td>\n",
              "      <td>telephone</td>\n",
              "      <td>may</td>\n",
              "      <td>mon</td>\n",
              "      <td>307</td>\n",
              "      <td>1</td>\n",
              "      <td>999</td>\n",
              "      <td>0</td>\n",
              "      <td>nonexistent</td>\n",
              "      <td>1.1</td>\n",
              "      <td>93.994</td>\n",
              "      <td>-36.4</td>\n",
              "      <td>4.857</td>\n",
              "      <td>5191.0</td>\n",
              "      <td>no</td>\n",
              "    </tr>\n",
              "  </tbody>\n",
              "</table>\n",
              "</div>"
            ],
            "text/plain": [
              "   age        job  marital    education  default housing loan    contact  \\\n",
              "0   56  housemaid  married     basic.4y       no      no   no  telephone   \n",
              "1   57   services  married  high.school  unknown      no   no  telephone   \n",
              "2   37   services  married  high.school       no     yes   no  telephone   \n",
              "3   40     admin.  married     basic.6y       no      no   no  telephone   \n",
              "4   56   services  married  high.school       no      no  yes  telephone   \n",
              "\n",
              "  month day_of_week  duration  campaign  pdays  previous     poutcome  \\\n",
              "0   may         mon       261         1    999         0  nonexistent   \n",
              "1   may         mon       149         1    999         0  nonexistent   \n",
              "2   may         mon       226         1    999         0  nonexistent   \n",
              "3   may         mon       151         1    999         0  nonexistent   \n",
              "4   may         mon       307         1    999         0  nonexistent   \n",
              "\n",
              "   emp.var.rate  cons.price.idx  cons.conf.idx  euribor3m  nr.employed   y  \n",
              "0           1.1          93.994          -36.4      4.857       5191.0  no  \n",
              "1           1.1          93.994          -36.4      4.857       5191.0  no  \n",
              "2           1.1          93.994          -36.4      4.857       5191.0  no  \n",
              "3           1.1          93.994          -36.4      4.857       5191.0  no  \n",
              "4           1.1          93.994          -36.4      4.857       5191.0  no  "
            ]
          },
          "metadata": {
            "tags": []
          },
          "execution_count": 42
        }
      ]
    },
    {
      "cell_type": "code",
      "metadata": {
        "id": "hIOdlpvE1JyA",
        "colab_type": "code",
        "colab": {
          "base_uri": "https://localhost:8080/",
          "height": 474
        },
        "outputId": "c2ba260e-11bc-40b8-b72e-0c4b36f7c774"
      },
      "source": [
        "df.info()"
      ],
      "execution_count": 43,
      "outputs": [
        {
          "output_type": "stream",
          "text": [
            "<class 'pandas.core.frame.DataFrame'>\n",
            "RangeIndex: 41188 entries, 0 to 41187\n",
            "Data columns (total 21 columns):\n",
            "age               41188 non-null int64\n",
            "job               41188 non-null object\n",
            "marital           41188 non-null object\n",
            "education         41188 non-null object\n",
            "default           41188 non-null object\n",
            "housing           41188 non-null object\n",
            "loan              41188 non-null object\n",
            "contact           41188 non-null object\n",
            "month             41188 non-null object\n",
            "day_of_week       41188 non-null object\n",
            "duration          41188 non-null int64\n",
            "campaign          41188 non-null int64\n",
            "pdays             41188 non-null int64\n",
            "previous          41188 non-null int64\n",
            "poutcome          41188 non-null object\n",
            "emp.var.rate      41188 non-null float64\n",
            "cons.price.idx    41188 non-null float64\n",
            "cons.conf.idx     41188 non-null float64\n",
            "euribor3m         41188 non-null float64\n",
            "nr.employed       41188 non-null float64\n",
            "y                 41188 non-null object\n",
            "dtypes: float64(5), int64(5), object(11)\n",
            "memory usage: 6.6+ MB\n"
          ],
          "name": "stdout"
        }
      ]
    },
    {
      "cell_type": "markdown",
      "metadata": {
        "id": "lX8EX7Si1JyG",
        "colab_type": "text"
      },
      "source": [
        "# 2. Data Preprocessing\n",
        "after the data already loaded, we must check the data is there a duplicate data or null value because machine learning algorithm can take it"
      ]
    },
    {
      "cell_type": "code",
      "metadata": {
        "id": "xDhq7qWL1JyH",
        "colab_type": "code",
        "colab": {
          "base_uri": "https://localhost:8080/",
          "height": 34
        },
        "outputId": "cfbf7a8e-2ce7-499a-bbfd-cca69c969877"
      },
      "source": [
        "df.shape"
      ],
      "execution_count": 44,
      "outputs": [
        {
          "output_type": "execute_result",
          "data": {
            "text/plain": [
              "(41188, 21)"
            ]
          },
          "metadata": {
            "tags": []
          },
          "execution_count": 44
        }
      ]
    },
    {
      "cell_type": "code",
      "metadata": {
        "id": "DJGnqW191JyP",
        "colab_type": "code",
        "colab": {
          "base_uri": "https://localhost:8080/",
          "height": 404
        },
        "outputId": "7f53cc49-11c7-4c4e-9c03-dc4e10019832"
      },
      "source": [
        "df.isna().sum() / len(df)"
      ],
      "execution_count": 45,
      "outputs": [
        {
          "output_type": "execute_result",
          "data": {
            "text/plain": [
              "age               0.0\n",
              "job               0.0\n",
              "marital           0.0\n",
              "education         0.0\n",
              "default           0.0\n",
              "housing           0.0\n",
              "loan              0.0\n",
              "contact           0.0\n",
              "month             0.0\n",
              "day_of_week       0.0\n",
              "duration          0.0\n",
              "campaign          0.0\n",
              "pdays             0.0\n",
              "previous          0.0\n",
              "poutcome          0.0\n",
              "emp.var.rate      0.0\n",
              "cons.price.idx    0.0\n",
              "cons.conf.idx     0.0\n",
              "euribor3m         0.0\n",
              "nr.employed       0.0\n",
              "y                 0.0\n",
              "dtype: float64"
            ]
          },
          "metadata": {
            "tags": []
          },
          "execution_count": 45
        }
      ]
    },
    {
      "cell_type": "code",
      "metadata": {
        "id": "NhpOB0Wo1JyX",
        "colab_type": "code",
        "colab": {
          "base_uri": "https://localhost:8080/",
          "height": 1000
        },
        "outputId": "1b38986a-8367-4b45-d359-ef655e010348"
      },
      "source": [
        "for column in df.columns:\n",
        "    print(df[column].value_counts() / len(df[column]))\n",
        "    print('\\n\\n')    "
      ],
      "execution_count": 46,
      "outputs": [
        {
          "output_type": "stream",
          "text": [
            "31    0.047271\n",
            "32    0.044819\n",
            "33    0.044503\n",
            "36    0.043216\n",
            "35    0.042707\n",
            "        ...   \n",
            "89    0.000049\n",
            "91    0.000049\n",
            "87    0.000024\n",
            "94    0.000024\n",
            "95    0.000024\n",
            "Name: age, Length: 78, dtype: float64\n",
            "\n",
            "\n",
            "\n",
            "admin.           0.253035\n",
            "blue-collar      0.224677\n",
            "technician       0.163713\n",
            "services         0.096363\n",
            "management       0.070992\n",
            "retired          0.041760\n",
            "entrepreneur     0.035350\n",
            "self-employed    0.034500\n",
            "housemaid        0.025736\n",
            "unemployed       0.024619\n",
            "student          0.021244\n",
            "unknown          0.008012\n",
            "Name: job, dtype: float64\n",
            "\n",
            "\n",
            "\n",
            "married     0.605225\n",
            "single      0.280859\n",
            "divorced    0.111974\n",
            "unknown     0.001942\n",
            "Name: marital, dtype: float64\n",
            "\n",
            "\n",
            "\n",
            "university.degree      0.295426\n",
            "high.school            0.231014\n",
            "basic.9y               0.146766\n",
            "professional.course    0.127294\n",
            "basic.4y               0.101389\n",
            "basic.6y               0.055647\n",
            "unknown                0.042027\n",
            "illiterate             0.000437\n",
            "Name: education, dtype: float64\n",
            "\n",
            "\n",
            "\n",
            "no         0.791201\n",
            "unknown    0.208726\n",
            "yes        0.000073\n",
            "Name: default, dtype: float64\n",
            "\n",
            "\n",
            "\n",
            "yes        0.523842\n",
            "no         0.452122\n",
            "unknown    0.024036\n",
            "Name: housing, dtype: float64\n",
            "\n",
            "\n",
            "\n",
            "no         0.824269\n",
            "yes        0.151695\n",
            "unknown    0.024036\n",
            "Name: loan, dtype: float64\n",
            "\n",
            "\n",
            "\n",
            "cellular     0.634748\n",
            "telephone    0.365252\n",
            "Name: contact, dtype: float64\n",
            "\n",
            "\n",
            "\n",
            "may    0.334296\n",
            "jul    0.174177\n",
            "aug    0.149995\n",
            "jun    0.129115\n",
            "nov    0.099568\n",
            "apr    0.063902\n",
            "oct    0.017432\n",
            "sep    0.013839\n",
            "mar    0.013256\n",
            "dec    0.004419\n",
            "Name: month, dtype: float64\n",
            "\n",
            "\n",
            "\n",
            "thu    0.209357\n",
            "mon    0.206711\n",
            "wed    0.197485\n",
            "tue    0.196416\n",
            "fri    0.190031\n",
            "Name: day_of_week, dtype: float64\n",
            "\n",
            "\n",
            "\n",
            "85      0.004127\n",
            "90      0.004127\n",
            "136     0.004079\n",
            "73      0.004055\n",
            "124     0.003982\n",
            "          ...   \n",
            "1108    0.000024\n",
            "980     0.000024\n",
            "4918    0.000024\n",
            "2453    0.000024\n",
            "2015    0.000024\n",
            "Name: duration, Length: 1544, dtype: float64\n",
            "\n",
            "\n",
            "\n",
            "1     0.428329\n",
            "2     0.256628\n",
            "3     0.129674\n",
            "4     0.064363\n",
            "5     0.038822\n",
            "6     0.023769\n",
            "7     0.015271\n",
            "8     0.009712\n",
            "9     0.006871\n",
            "10    0.005463\n",
            "11    0.004297\n",
            "12    0.003035\n",
            "13    0.002234\n",
            "14    0.001675\n",
            "17    0.001408\n",
            "15    0.001238\n",
            "16    0.001238\n",
            "18    0.000801\n",
            "20    0.000728\n",
            "19    0.000631\n",
            "21    0.000583\n",
            "22    0.000413\n",
            "23    0.000388\n",
            "24    0.000364\n",
            "27    0.000267\n",
            "29    0.000243\n",
            "25    0.000194\n",
            "26    0.000194\n",
            "28    0.000194\n",
            "30    0.000170\n",
            "31    0.000170\n",
            "35    0.000121\n",
            "33    0.000097\n",
            "32    0.000097\n",
            "34    0.000073\n",
            "40    0.000049\n",
            "42    0.000049\n",
            "43    0.000049\n",
            "37    0.000024\n",
            "39    0.000024\n",
            "41    0.000024\n",
            "56    0.000024\n",
            "Name: campaign, dtype: float64\n",
            "\n",
            "\n",
            "\n",
            "999    0.963217\n",
            "3      0.010658\n",
            "6      0.010003\n",
            "4      0.002865\n",
            "9      0.001554\n",
            "2      0.001481\n",
            "7      0.001457\n",
            "12     0.001408\n",
            "10     0.001263\n",
            "5      0.001117\n",
            "13     0.000874\n",
            "11     0.000680\n",
            "1      0.000631\n",
            "15     0.000583\n",
            "14     0.000486\n",
            "8      0.000437\n",
            "0      0.000364\n",
            "16     0.000267\n",
            "17     0.000194\n",
            "18     0.000170\n",
            "19     0.000073\n",
            "22     0.000073\n",
            "21     0.000049\n",
            "26     0.000024\n",
            "20     0.000024\n",
            "25     0.000024\n",
            "27     0.000024\n",
            "Name: pdays, dtype: float64\n",
            "\n",
            "\n",
            "\n",
            "0    0.863431\n",
            "1    0.110736\n",
            "2    0.018306\n",
            "3    0.005244\n",
            "4    0.001700\n",
            "5    0.000437\n",
            "6    0.000121\n",
            "7    0.000024\n",
            "Name: previous, dtype: float64\n",
            "\n",
            "\n",
            "\n",
            "nonexistent    0.863431\n",
            "failure        0.103234\n",
            "success        0.033335\n",
            "Name: poutcome, dtype: float64\n",
            "\n",
            "\n",
            "\n",
            " 1.4    0.394144\n",
            "-1.8    0.222978\n",
            " 1.1    0.188477\n",
            "-0.1    0.089419\n",
            "-2.9    0.040376\n",
            "-3.4    0.026003\n",
            "-1.7    0.018768\n",
            "-1.1    0.015417\n",
            "-3.0    0.004176\n",
            "-0.2    0.000243\n",
            "Name: emp.var.rate, dtype: float64\n",
            "\n",
            "\n",
            "\n",
            "93.994    0.188477\n",
            "93.918    0.162305\n",
            "92.893    0.140672\n",
            "93.444    0.125643\n",
            "94.465    0.106196\n",
            "93.200    0.087793\n",
            "93.075    0.059678\n",
            "92.201    0.018695\n",
            "92.963    0.017359\n",
            "92.431    0.010853\n",
            "92.649    0.008668\n",
            "94.215    0.007551\n",
            "94.199    0.007357\n",
            "92.843    0.006847\n",
            "92.379    0.006482\n",
            "93.369    0.006410\n",
            "94.027    0.005657\n",
            "94.055    0.005560\n",
            "93.876    0.005147\n",
            "94.601    0.004953\n",
            "92.469    0.004322\n",
            "93.749    0.004225\n",
            "92.713    0.004176\n",
            "94.767    0.003108\n",
            "93.798    0.001627\n",
            "92.756    0.000243\n",
            "Name: cons.price.idx, dtype: float64\n",
            "\n",
            "\n",
            "\n",
            "-36.4    0.188477\n",
            "-42.7    0.162305\n",
            "-46.2    0.140672\n",
            "-36.1    0.125643\n",
            "-41.8    0.106196\n",
            "-42.0    0.087793\n",
            "-47.1    0.059678\n",
            "-31.4    0.018695\n",
            "-40.8    0.017359\n",
            "-26.9    0.010853\n",
            "-30.1    0.008668\n",
            "-40.3    0.007551\n",
            "-37.5    0.007357\n",
            "-50.0    0.006847\n",
            "-29.8    0.006482\n",
            "-34.8    0.006410\n",
            "-38.3    0.005657\n",
            "-39.8    0.005560\n",
            "-40.0    0.005147\n",
            "-49.5    0.004953\n",
            "-33.6    0.004322\n",
            "-34.6    0.004225\n",
            "-33.0    0.004176\n",
            "-50.8    0.003108\n",
            "-40.4    0.001627\n",
            "-45.9    0.000243\n",
            "Name: cons.conf.idx, dtype: float64\n",
            "\n",
            "\n",
            "\n",
            "4.857    0.069632\n",
            "4.962    0.063441\n",
            "4.963    0.060382\n",
            "4.961    0.046178\n",
            "4.856    0.029377\n",
            "           ...   \n",
            "1.045    0.000024\n",
            "0.956    0.000024\n",
            "0.933    0.000024\n",
            "3.282    0.000024\n",
            "0.996    0.000024\n",
            "Name: euribor3m, Length: 316, dtype: float64\n",
            "\n",
            "\n",
            "\n",
            "5228.1    0.394144\n",
            "5099.1    0.207196\n",
            "5191.0    0.188477\n",
            "5195.8    0.089419\n",
            "5076.2    0.040376\n",
            "5017.5    0.026003\n",
            "4991.6    0.018768\n",
            "5008.7    0.015781\n",
            "4963.6    0.015417\n",
            "5023.5    0.004176\n",
            "5176.3    0.000243\n",
            "Name: nr.employed, dtype: float64\n",
            "\n",
            "\n",
            "\n",
            "no     0.887346\n",
            "yes    0.112654\n",
            "Name: y, dtype: float64\n",
            "\n",
            "\n",
            "\n"
          ],
          "name": "stdout"
        }
      ]
    },
    {
      "cell_type": "code",
      "metadata": {
        "id": "2gDZYcEq1Jyg",
        "colab_type": "code",
        "colab": {
          "base_uri": "https://localhost:8080/",
          "height": 439
        },
        "outputId": "f340d2bf-9360-4f27-921c-3b5182709598"
      },
      "source": [
        "df[df.duplicated() == True]"
      ],
      "execution_count": 47,
      "outputs": [
        {
          "output_type": "execute_result",
          "data": {
            "text/html": [
              "<div>\n",
              "<style scoped>\n",
              "    .dataframe tbody tr th:only-of-type {\n",
              "        vertical-align: middle;\n",
              "    }\n",
              "\n",
              "    .dataframe tbody tr th {\n",
              "        vertical-align: top;\n",
              "    }\n",
              "\n",
              "    .dataframe thead th {\n",
              "        text-align: right;\n",
              "    }\n",
              "</style>\n",
              "<table border=\"1\" class=\"dataframe\">\n",
              "  <thead>\n",
              "    <tr style=\"text-align: right;\">\n",
              "      <th></th>\n",
              "      <th>age</th>\n",
              "      <th>job</th>\n",
              "      <th>marital</th>\n",
              "      <th>education</th>\n",
              "      <th>default</th>\n",
              "      <th>housing</th>\n",
              "      <th>loan</th>\n",
              "      <th>contact</th>\n",
              "      <th>month</th>\n",
              "      <th>day_of_week</th>\n",
              "      <th>duration</th>\n",
              "      <th>campaign</th>\n",
              "      <th>pdays</th>\n",
              "      <th>previous</th>\n",
              "      <th>poutcome</th>\n",
              "      <th>emp.var.rate</th>\n",
              "      <th>cons.price.idx</th>\n",
              "      <th>cons.conf.idx</th>\n",
              "      <th>euribor3m</th>\n",
              "      <th>nr.employed</th>\n",
              "      <th>y</th>\n",
              "    </tr>\n",
              "  </thead>\n",
              "  <tbody>\n",
              "    <tr>\n",
              "      <th>1266</th>\n",
              "      <td>39</td>\n",
              "      <td>blue-collar</td>\n",
              "      <td>married</td>\n",
              "      <td>basic.6y</td>\n",
              "      <td>no</td>\n",
              "      <td>no</td>\n",
              "      <td>no</td>\n",
              "      <td>telephone</td>\n",
              "      <td>may</td>\n",
              "      <td>thu</td>\n",
              "      <td>124</td>\n",
              "      <td>1</td>\n",
              "      <td>999</td>\n",
              "      <td>0</td>\n",
              "      <td>nonexistent</td>\n",
              "      <td>1.1</td>\n",
              "      <td>93.994</td>\n",
              "      <td>-36.4</td>\n",
              "      <td>4.855</td>\n",
              "      <td>5191.0</td>\n",
              "      <td>no</td>\n",
              "    </tr>\n",
              "    <tr>\n",
              "      <th>12261</th>\n",
              "      <td>36</td>\n",
              "      <td>retired</td>\n",
              "      <td>married</td>\n",
              "      <td>unknown</td>\n",
              "      <td>no</td>\n",
              "      <td>no</td>\n",
              "      <td>no</td>\n",
              "      <td>telephone</td>\n",
              "      <td>jul</td>\n",
              "      <td>thu</td>\n",
              "      <td>88</td>\n",
              "      <td>1</td>\n",
              "      <td>999</td>\n",
              "      <td>0</td>\n",
              "      <td>nonexistent</td>\n",
              "      <td>1.4</td>\n",
              "      <td>93.918</td>\n",
              "      <td>-42.7</td>\n",
              "      <td>4.966</td>\n",
              "      <td>5228.1</td>\n",
              "      <td>no</td>\n",
              "    </tr>\n",
              "    <tr>\n",
              "      <th>14234</th>\n",
              "      <td>27</td>\n",
              "      <td>technician</td>\n",
              "      <td>single</td>\n",
              "      <td>professional.course</td>\n",
              "      <td>no</td>\n",
              "      <td>no</td>\n",
              "      <td>no</td>\n",
              "      <td>cellular</td>\n",
              "      <td>jul</td>\n",
              "      <td>mon</td>\n",
              "      <td>331</td>\n",
              "      <td>2</td>\n",
              "      <td>999</td>\n",
              "      <td>0</td>\n",
              "      <td>nonexistent</td>\n",
              "      <td>1.4</td>\n",
              "      <td>93.918</td>\n",
              "      <td>-42.7</td>\n",
              "      <td>4.962</td>\n",
              "      <td>5228.1</td>\n",
              "      <td>no</td>\n",
              "    </tr>\n",
              "    <tr>\n",
              "      <th>16956</th>\n",
              "      <td>47</td>\n",
              "      <td>technician</td>\n",
              "      <td>divorced</td>\n",
              "      <td>high.school</td>\n",
              "      <td>no</td>\n",
              "      <td>yes</td>\n",
              "      <td>no</td>\n",
              "      <td>cellular</td>\n",
              "      <td>jul</td>\n",
              "      <td>thu</td>\n",
              "      <td>43</td>\n",
              "      <td>3</td>\n",
              "      <td>999</td>\n",
              "      <td>0</td>\n",
              "      <td>nonexistent</td>\n",
              "      <td>1.4</td>\n",
              "      <td>93.918</td>\n",
              "      <td>-42.7</td>\n",
              "      <td>4.962</td>\n",
              "      <td>5228.1</td>\n",
              "      <td>no</td>\n",
              "    </tr>\n",
              "    <tr>\n",
              "      <th>18465</th>\n",
              "      <td>32</td>\n",
              "      <td>technician</td>\n",
              "      <td>single</td>\n",
              "      <td>professional.course</td>\n",
              "      <td>no</td>\n",
              "      <td>yes</td>\n",
              "      <td>no</td>\n",
              "      <td>cellular</td>\n",
              "      <td>jul</td>\n",
              "      <td>thu</td>\n",
              "      <td>128</td>\n",
              "      <td>1</td>\n",
              "      <td>999</td>\n",
              "      <td>0</td>\n",
              "      <td>nonexistent</td>\n",
              "      <td>1.4</td>\n",
              "      <td>93.918</td>\n",
              "      <td>-42.7</td>\n",
              "      <td>4.968</td>\n",
              "      <td>5228.1</td>\n",
              "      <td>no</td>\n",
              "    </tr>\n",
              "    <tr>\n",
              "      <th>20216</th>\n",
              "      <td>55</td>\n",
              "      <td>services</td>\n",
              "      <td>married</td>\n",
              "      <td>high.school</td>\n",
              "      <td>unknown</td>\n",
              "      <td>no</td>\n",
              "      <td>no</td>\n",
              "      <td>cellular</td>\n",
              "      <td>aug</td>\n",
              "      <td>mon</td>\n",
              "      <td>33</td>\n",
              "      <td>1</td>\n",
              "      <td>999</td>\n",
              "      <td>0</td>\n",
              "      <td>nonexistent</td>\n",
              "      <td>1.4</td>\n",
              "      <td>93.444</td>\n",
              "      <td>-36.1</td>\n",
              "      <td>4.965</td>\n",
              "      <td>5228.1</td>\n",
              "      <td>no</td>\n",
              "    </tr>\n",
              "    <tr>\n",
              "      <th>20534</th>\n",
              "      <td>41</td>\n",
              "      <td>technician</td>\n",
              "      <td>married</td>\n",
              "      <td>professional.course</td>\n",
              "      <td>no</td>\n",
              "      <td>yes</td>\n",
              "      <td>no</td>\n",
              "      <td>cellular</td>\n",
              "      <td>aug</td>\n",
              "      <td>tue</td>\n",
              "      <td>127</td>\n",
              "      <td>1</td>\n",
              "      <td>999</td>\n",
              "      <td>0</td>\n",
              "      <td>nonexistent</td>\n",
              "      <td>1.4</td>\n",
              "      <td>93.444</td>\n",
              "      <td>-36.1</td>\n",
              "      <td>4.966</td>\n",
              "      <td>5228.1</td>\n",
              "      <td>no</td>\n",
              "    </tr>\n",
              "    <tr>\n",
              "      <th>25217</th>\n",
              "      <td>39</td>\n",
              "      <td>admin.</td>\n",
              "      <td>married</td>\n",
              "      <td>university.degree</td>\n",
              "      <td>no</td>\n",
              "      <td>no</td>\n",
              "      <td>no</td>\n",
              "      <td>cellular</td>\n",
              "      <td>nov</td>\n",
              "      <td>tue</td>\n",
              "      <td>123</td>\n",
              "      <td>2</td>\n",
              "      <td>999</td>\n",
              "      <td>0</td>\n",
              "      <td>nonexistent</td>\n",
              "      <td>-0.1</td>\n",
              "      <td>93.200</td>\n",
              "      <td>-42.0</td>\n",
              "      <td>4.153</td>\n",
              "      <td>5195.8</td>\n",
              "      <td>no</td>\n",
              "    </tr>\n",
              "    <tr>\n",
              "      <th>28477</th>\n",
              "      <td>24</td>\n",
              "      <td>services</td>\n",
              "      <td>single</td>\n",
              "      <td>high.school</td>\n",
              "      <td>no</td>\n",
              "      <td>yes</td>\n",
              "      <td>no</td>\n",
              "      <td>cellular</td>\n",
              "      <td>apr</td>\n",
              "      <td>tue</td>\n",
              "      <td>114</td>\n",
              "      <td>1</td>\n",
              "      <td>999</td>\n",
              "      <td>0</td>\n",
              "      <td>nonexistent</td>\n",
              "      <td>-1.8</td>\n",
              "      <td>93.075</td>\n",
              "      <td>-47.1</td>\n",
              "      <td>1.423</td>\n",
              "      <td>5099.1</td>\n",
              "      <td>no</td>\n",
              "    </tr>\n",
              "    <tr>\n",
              "      <th>32516</th>\n",
              "      <td>35</td>\n",
              "      <td>admin.</td>\n",
              "      <td>married</td>\n",
              "      <td>university.degree</td>\n",
              "      <td>no</td>\n",
              "      <td>yes</td>\n",
              "      <td>no</td>\n",
              "      <td>cellular</td>\n",
              "      <td>may</td>\n",
              "      <td>fri</td>\n",
              "      <td>348</td>\n",
              "      <td>4</td>\n",
              "      <td>999</td>\n",
              "      <td>0</td>\n",
              "      <td>nonexistent</td>\n",
              "      <td>-1.8</td>\n",
              "      <td>92.893</td>\n",
              "      <td>-46.2</td>\n",
              "      <td>1.313</td>\n",
              "      <td>5099.1</td>\n",
              "      <td>no</td>\n",
              "    </tr>\n",
              "    <tr>\n",
              "      <th>36951</th>\n",
              "      <td>45</td>\n",
              "      <td>admin.</td>\n",
              "      <td>married</td>\n",
              "      <td>university.degree</td>\n",
              "      <td>no</td>\n",
              "      <td>no</td>\n",
              "      <td>no</td>\n",
              "      <td>cellular</td>\n",
              "      <td>jul</td>\n",
              "      <td>thu</td>\n",
              "      <td>252</td>\n",
              "      <td>1</td>\n",
              "      <td>999</td>\n",
              "      <td>0</td>\n",
              "      <td>nonexistent</td>\n",
              "      <td>-2.9</td>\n",
              "      <td>92.469</td>\n",
              "      <td>-33.6</td>\n",
              "      <td>1.072</td>\n",
              "      <td>5076.2</td>\n",
              "      <td>yes</td>\n",
              "    </tr>\n",
              "    <tr>\n",
              "      <th>38281</th>\n",
              "      <td>71</td>\n",
              "      <td>retired</td>\n",
              "      <td>single</td>\n",
              "      <td>university.degree</td>\n",
              "      <td>no</td>\n",
              "      <td>no</td>\n",
              "      <td>no</td>\n",
              "      <td>telephone</td>\n",
              "      <td>oct</td>\n",
              "      <td>tue</td>\n",
              "      <td>120</td>\n",
              "      <td>1</td>\n",
              "      <td>999</td>\n",
              "      <td>0</td>\n",
              "      <td>nonexistent</td>\n",
              "      <td>-3.4</td>\n",
              "      <td>92.431</td>\n",
              "      <td>-26.9</td>\n",
              "      <td>0.742</td>\n",
              "      <td>5017.5</td>\n",
              "      <td>no</td>\n",
              "    </tr>\n",
              "  </tbody>\n",
              "</table>\n",
              "</div>"
            ],
            "text/plain": [
              "       age          job   marital            education  default housing loan  \\\n",
              "1266    39  blue-collar   married             basic.6y       no      no   no   \n",
              "12261   36      retired   married              unknown       no      no   no   \n",
              "14234   27   technician    single  professional.course       no      no   no   \n",
              "16956   47   technician  divorced          high.school       no     yes   no   \n",
              "18465   32   technician    single  professional.course       no     yes   no   \n",
              "20216   55     services   married          high.school  unknown      no   no   \n",
              "20534   41   technician   married  professional.course       no     yes   no   \n",
              "25217   39       admin.   married    university.degree       no      no   no   \n",
              "28477   24     services    single          high.school       no     yes   no   \n",
              "32516   35       admin.   married    university.degree       no     yes   no   \n",
              "36951   45       admin.   married    university.degree       no      no   no   \n",
              "38281   71      retired    single    university.degree       no      no   no   \n",
              "\n",
              "         contact month day_of_week  duration  campaign  pdays  previous  \\\n",
              "1266   telephone   may         thu       124         1    999         0   \n",
              "12261  telephone   jul         thu        88         1    999         0   \n",
              "14234   cellular   jul         mon       331         2    999         0   \n",
              "16956   cellular   jul         thu        43         3    999         0   \n",
              "18465   cellular   jul         thu       128         1    999         0   \n",
              "20216   cellular   aug         mon        33         1    999         0   \n",
              "20534   cellular   aug         tue       127         1    999         0   \n",
              "25217   cellular   nov         tue       123         2    999         0   \n",
              "28477   cellular   apr         tue       114         1    999         0   \n",
              "32516   cellular   may         fri       348         4    999         0   \n",
              "36951   cellular   jul         thu       252         1    999         0   \n",
              "38281  telephone   oct         tue       120         1    999         0   \n",
              "\n",
              "          poutcome  emp.var.rate  cons.price.idx  cons.conf.idx  euribor3m  \\\n",
              "1266   nonexistent           1.1          93.994          -36.4      4.855   \n",
              "12261  nonexistent           1.4          93.918          -42.7      4.966   \n",
              "14234  nonexistent           1.4          93.918          -42.7      4.962   \n",
              "16956  nonexistent           1.4          93.918          -42.7      4.962   \n",
              "18465  nonexistent           1.4          93.918          -42.7      4.968   \n",
              "20216  nonexistent           1.4          93.444          -36.1      4.965   \n",
              "20534  nonexistent           1.4          93.444          -36.1      4.966   \n",
              "25217  nonexistent          -0.1          93.200          -42.0      4.153   \n",
              "28477  nonexistent          -1.8          93.075          -47.1      1.423   \n",
              "32516  nonexistent          -1.8          92.893          -46.2      1.313   \n",
              "36951  nonexistent          -2.9          92.469          -33.6      1.072   \n",
              "38281  nonexistent          -3.4          92.431          -26.9      0.742   \n",
              "\n",
              "       nr.employed    y  \n",
              "1266        5191.0   no  \n",
              "12261       5228.1   no  \n",
              "14234       5228.1   no  \n",
              "16956       5228.1   no  \n",
              "18465       5228.1   no  \n",
              "20216       5228.1   no  \n",
              "20534       5228.1   no  \n",
              "25217       5195.8   no  \n",
              "28477       5099.1   no  \n",
              "32516       5099.1   no  \n",
              "36951       5076.2  yes  \n",
              "38281       5017.5   no  "
            ]
          },
          "metadata": {
            "tags": []
          },
          "execution_count": 47
        }
      ]
    },
    {
      "cell_type": "markdown",
      "metadata": {
        "id": "4KOE_JqL1Jyr",
        "colab_type": "text"
      },
      "source": [
        "There are 12 duplicate data and a null value feature that named 'unlnown', we must remove these data so our model can do a prediction"
      ]
    },
    {
      "cell_type": "code",
      "metadata": {
        "id": "1b3SgiOK1Jyu",
        "colab_type": "code",
        "colab": {}
      },
      "source": [
        "df_new = df.drop_duplicates(keep='last')"
      ],
      "execution_count": 0,
      "outputs": []
    },
    {
      "cell_type": "code",
      "metadata": {
        "id": "SSH_cunm1Jy3",
        "colab_type": "code",
        "colab": {
          "base_uri": "https://localhost:8080/",
          "height": 70
        },
        "outputId": "05322570-1941-44f0-9805-ffeffc7f6f2d"
      },
      "source": [
        "df_new.select_dtypes(include=['object']).columns"
      ],
      "execution_count": 49,
      "outputs": [
        {
          "output_type": "execute_result",
          "data": {
            "text/plain": [
              "Index(['job', 'marital', 'education', 'default', 'housing', 'loan', 'contact',\n",
              "       'month', 'day_of_week', 'poutcome', 'y'],\n",
              "      dtype='object')"
            ]
          },
          "metadata": {
            "tags": []
          },
          "execution_count": 49
        }
      ]
    },
    {
      "cell_type": "code",
      "metadata": {
        "id": "s51oURL41JzC",
        "colab_type": "code",
        "colab": {}
      },
      "source": [
        "df_new = df_new[(df_new['job'] != 'unknown') & (df_new['marital'] != 'unknown') & (df_new['education'] != 'unknown') & (df_new['default'] != 'unknown') & (df_new['housing'] != 'unknown') & (df_new['loan'] != 'unknown') & (df_new['contact'] != 'unknown') & (df_new['month'] != 'unknown') & (df_new['day_of_week'] != 'unknown') & (df_new['poutcome'] != 'unknown')]"
      ],
      "execution_count": 0,
      "outputs": []
    },
    {
      "cell_type": "code",
      "metadata": {
        "id": "YzYagdMF1JzL",
        "colab_type": "code",
        "colab": {
          "base_uri": "https://localhost:8080/",
          "height": 1000
        },
        "outputId": "9f90e5ad-92dc-4a8f-d566-5ec1fb91cd1b"
      },
      "source": [
        "for column in df.columns:\n",
        "    print(df_new[column].value_counts() / len(df_new[column]))\n",
        "    print('\\n\\n')    "
      ],
      "execution_count": 51,
      "outputs": [
        {
          "output_type": "stream",
          "text": [
            "31    0.053908\n",
            "32    0.050988\n",
            "33    0.050003\n",
            "30    0.047280\n",
            "34    0.046952\n",
            "        ...   \n",
            "91    0.000066\n",
            "89    0.000066\n",
            "94    0.000033\n",
            "87    0.000033\n",
            "95    0.000033\n",
            "Name: age, Length: 76, dtype: float64\n",
            "\n",
            "\n",
            "\n",
            "admin.           0.286567\n",
            "blue-collar      0.186167\n",
            "technician       0.179441\n",
            "services         0.093707\n",
            "management       0.075825\n",
            "retired          0.039865\n",
            "self-employed    0.035829\n",
            "entrepreneur     0.035731\n",
            "unemployed       0.024214\n",
            "housemaid        0.022639\n",
            "student          0.020014\n",
            "Name: job, dtype: float64\n",
            "\n",
            "\n",
            "\n",
            "married     0.573758\n",
            "single      0.309699\n",
            "divorced    0.116543\n",
            "Name: marital, dtype: float64\n",
            "\n",
            "\n",
            "\n",
            "university.degree      0.341492\n",
            "high.school            0.252543\n",
            "professional.course    0.141676\n",
            "basic.9y               0.140298\n",
            "basic.4y               0.078089\n",
            "basic.6y               0.045541\n",
            "illiterate             0.000361\n",
            "Name: education, dtype: float64\n",
            "\n",
            "\n",
            "\n",
            "no     0.999902\n",
            "yes    0.000098\n",
            "Name: default, dtype: float64\n",
            "\n",
            "\n",
            "\n",
            "yes    0.541899\n",
            "no     0.458101\n",
            "Name: housing, dtype: float64\n",
            "\n",
            "\n",
            "\n",
            "no     0.843559\n",
            "yes    0.156441\n",
            "Name: loan, dtype: float64\n",
            "\n",
            "\n",
            "\n",
            "cellular     0.670484\n",
            "telephone    0.329516\n",
            "Name: contact, dtype: float64\n",
            "\n",
            "\n",
            "\n",
            "may    0.319279\n",
            "jul    0.166579\n",
            "aug    0.153291\n",
            "jun    0.118577\n",
            "nov    0.114673\n",
            "apr    0.069362\n",
            "oct    0.021032\n",
            "sep    0.016241\n",
            "mar    0.015815\n",
            "dec    0.005151\n",
            "Name: month, dtype: float64\n",
            "\n",
            "\n",
            "\n",
            "thu    0.209692\n",
            "mon    0.205985\n",
            "wed    0.200965\n",
            "tue    0.195256\n",
            "fri    0.188103\n",
            "Name: day_of_week, dtype: float64\n",
            "\n",
            "\n",
            "\n",
            "90      0.004397\n",
            "85      0.004200\n",
            "72      0.004003\n",
            "111     0.003970\n",
            "104     0.003970\n",
            "          ...   \n",
            "2680    0.000033\n",
            "745     0.000033\n",
            "2516    0.000033\n",
            "1058    0.000033\n",
            "2486    0.000033\n",
            "Name: duration, Length: 1441, dtype: float64\n",
            "\n",
            "\n",
            "\n",
            "1     0.434412\n",
            "2     0.258252\n",
            "3     0.128092\n",
            "4     0.063521\n",
            "5     0.037929\n",
            "6     0.022836\n",
            "7     0.014437\n",
            "8     0.009285\n",
            "9     0.006398\n",
            "10    0.005381\n",
            "11    0.004069\n",
            "12    0.002920\n",
            "13    0.001772\n",
            "14    0.001575\n",
            "17    0.001345\n",
            "15    0.000984\n",
            "16    0.000984\n",
            "18    0.000755\n",
            "20    0.000689\n",
            "19    0.000591\n",
            "23    0.000459\n",
            "21    0.000459\n",
            "24    0.000361\n",
            "22    0.000361\n",
            "29    0.000262\n",
            "27    0.000230\n",
            "30    0.000230\n",
            "25    0.000197\n",
            "28    0.000197\n",
            "31    0.000164\n",
            "26    0.000164\n",
            "35    0.000131\n",
            "32    0.000131\n",
            "33    0.000098\n",
            "40    0.000066\n",
            "34    0.000066\n",
            "42    0.000066\n",
            "37    0.000033\n",
            "41    0.000033\n",
            "43    0.000033\n",
            "39    0.000033\n",
            "Name: campaign, dtype: float64\n",
            "\n",
            "\n",
            "\n",
            "999    0.957018\n",
            "3      0.012501\n",
            "6      0.011910\n",
            "4      0.003347\n",
            "2      0.001739\n",
            "9      0.001739\n",
            "12     0.001641\n",
            "7      0.001641\n",
            "5      0.001411\n",
            "10     0.001312\n",
            "13     0.001083\n",
            "11     0.000820\n",
            "15     0.000722\n",
            "1      0.000689\n",
            "14     0.000558\n",
            "0      0.000459\n",
            "8      0.000427\n",
            "16     0.000262\n",
            "17     0.000197\n",
            "18     0.000164\n",
            "19     0.000098\n",
            "22     0.000098\n",
            "21     0.000066\n",
            "25     0.000033\n",
            "26     0.000033\n",
            "27     0.000033\n",
            "Name: pdays, dtype: float64\n",
            "\n",
            "\n",
            "\n",
            "0    0.847365\n",
            "1    0.123105\n",
            "2    0.020769\n",
            "3    0.006234\n",
            "4    0.001837\n",
            "5    0.000525\n",
            "6    0.000131\n",
            "7    0.000033\n",
            "Name: previous, dtype: float64\n",
            "\n",
            "\n",
            "\n",
            "nonexistent    0.847365\n",
            "failure        0.113557\n",
            "success        0.039077\n",
            "Name: poutcome, dtype: float64\n",
            "\n",
            "\n",
            "\n",
            " 1.4    0.368003\n",
            "-1.8    0.242470\n",
            " 1.1    0.161986\n",
            "-0.1    0.102238\n",
            "-2.9    0.047903\n",
            "-3.4    0.031170\n",
            "-1.7    0.022541\n",
            "-1.1    0.018538\n",
            "-3.0    0.004823\n",
            "-0.2    0.000328\n",
            "Name: emp.var.rate, dtype: float64\n",
            "\n",
            "\n",
            "\n",
            "93.994    0.161986\n",
            "93.918    0.152339\n",
            "92.893    0.151421\n",
            "93.444    0.124582\n",
            "93.200    0.100171\n",
            "94.465    0.091082\n",
            "93.075    0.064604\n",
            "92.201    0.022180\n",
            "92.963    0.020605\n",
            "92.431    0.012960\n",
            "92.649    0.010696\n",
            "94.215    0.009121\n",
            "94.199    0.008728\n",
            "92.843    0.008564\n",
            "92.379    0.007514\n",
            "93.369    0.007251\n",
            "94.055    0.006890\n",
            "94.027    0.006529\n",
            "94.601    0.006004\n",
            "93.876    0.005873\n",
            "92.469    0.005118\n",
            "92.713    0.004823\n",
            "93.749    0.004758\n",
            "94.767    0.003806\n",
            "93.798    0.002067\n",
            "92.756    0.000328\n",
            "Name: cons.price.idx, dtype: float64\n",
            "\n",
            "\n",
            "\n",
            "-36.4    0.161986\n",
            "-42.7    0.152339\n",
            "-46.2    0.151421\n",
            "-36.1    0.124582\n",
            "-42.0    0.100171\n",
            "-41.8    0.091082\n",
            "-47.1    0.064604\n",
            "-31.4    0.022180\n",
            "-40.8    0.020605\n",
            "-26.9    0.012960\n",
            "-30.1    0.010696\n",
            "-40.3    0.009121\n",
            "-37.5    0.008728\n",
            "-50.0    0.008564\n",
            "-29.8    0.007514\n",
            "-34.8    0.007251\n",
            "-39.8    0.006890\n",
            "-38.3    0.006529\n",
            "-49.5    0.006004\n",
            "-40.0    0.005873\n",
            "-33.6    0.005118\n",
            "-33.0    0.004823\n",
            "-34.6    0.004758\n",
            "-50.8    0.003806\n",
            "-40.4    0.002067\n",
            "-45.9    0.000328\n",
            "Name: cons.conf.idx, dtype: float64\n",
            "\n",
            "\n",
            "\n",
            "4.857    0.060240\n",
            "4.963    0.059321\n",
            "4.962    0.059092\n",
            "4.961    0.040193\n",
            "1.405    0.029037\n",
            "           ...   \n",
            "3.053    0.000033\n",
            "0.969    0.000033\n",
            "1.047    0.000033\n",
            "3.669    0.000033\n",
            "0.933    0.000033\n",
            "Name: euribor3m, Length: 314, dtype: float64\n",
            "\n",
            "\n",
            "\n",
            "5228.1    0.368003\n",
            "5099.1    0.224588\n",
            "5191.0    0.161986\n",
            "5195.8    0.102238\n",
            "5076.2    0.047903\n",
            "5017.5    0.031170\n",
            "4991.6    0.022541\n",
            "4963.6    0.018538\n",
            "5008.7    0.017882\n",
            "5023.5    0.004823\n",
            "5176.3    0.000328\n",
            "Name: nr.employed, dtype: float64\n",
            "\n",
            "\n",
            "\n",
            "no     0.873417\n",
            "yes    0.126583\n",
            "Name: y, dtype: float64\n",
            "\n",
            "\n",
            "\n"
          ],
          "name": "stdout"
        }
      ]
    },
    {
      "cell_type": "code",
      "metadata": {
        "id": "NE4ziHpJ1JzT",
        "colab_type": "code",
        "colab": {
          "base_uri": "https://localhost:8080/",
          "height": 34
        },
        "outputId": "4c104cc2-4393-426c-e74c-08f20bf372eb"
      },
      "source": [
        "df_new.shape"
      ],
      "execution_count": 52,
      "outputs": [
        {
          "output_type": "execute_result",
          "data": {
            "text/plain": [
              "(30478, 21)"
            ]
          },
          "metadata": {
            "tags": []
          },
          "execution_count": 52
        }
      ]
    },
    {
      "cell_type": "markdown",
      "metadata": {
        "id": "pKxBzFoh1Jzb",
        "colab_type": "text"
      },
      "source": [
        "Our data is already clean from duplicate and null value, now we need to check the statistic from this data"
      ]
    },
    {
      "cell_type": "code",
      "metadata": {
        "id": "MSZpukGd1Jzc",
        "colab_type": "code",
        "colab": {
          "base_uri": "https://localhost:8080/",
          "height": 677
        },
        "outputId": "5fdc76cc-1082-439b-d094-969fc20164b9"
      },
      "source": [
        "sns.set()\n",
        "corr = df_new.corr()\n",
        "mask = np.triu(np.ones_like(corr, dtype=bool))\n",
        "plt.figure(figsize=[15,10])\n",
        "plt.title('THE CORRELATION OF FEATURE IN THIS DATASET',fontweight='bold')\n",
        "sns.heatmap(corr, mask=mask, cmap='Blues', center=0, linewidths=1, annot=True, fmt=\".2f\")\n",
        "plt.show()"
      ],
      "execution_count": 53,
      "outputs": [
        {
          "output_type": "display_data",
          "data": {
            "image/png": "[encoded data removed]",
            "text/plain": [
              "<Figure size 1080x720 with 2 Axes>"
            ]
          },
          "metadata": {
            "tags": []
          }
        }
      ]
    },
    {
      "cell_type": "code",
      "metadata": {
        "id": "vEZH7s5g1Jzj",
        "colab_type": "code",
        "colab": {
          "base_uri": "https://localhost:8080/",
          "height": 343
        },
        "outputId": "ff207156-66ba-4896-f26e-99bd83b9f5db"
      },
      "source": [
        "df_new.describe().T"
      ],
      "execution_count": 54,
      "outputs": [
        {
          "output_type": "execute_result",
          "data": {
            "text/html": [
              "<div>\n",
              "<style scoped>\n",
              "    .dataframe tbody tr th:only-of-type {\n",
              "        vertical-align: middle;\n",
              "    }\n",
              "\n",
              "    .dataframe tbody tr th {\n",
              "        vertical-align: top;\n",
              "    }\n",
              "\n",
              "    .dataframe thead th {\n",
              "        text-align: right;\n",
              "    }\n",
              "</style>\n",
              "<table border=\"1\" class=\"dataframe\">\n",
              "  <thead>\n",
              "    <tr style=\"text-align: right;\">\n",
              "      <th></th>\n",
              "      <th>count</th>\n",
              "      <th>mean</th>\n",
              "      <th>std</th>\n",
              "      <th>min</th>\n",
              "      <th>25%</th>\n",
              "      <th>50%</th>\n",
              "      <th>75%</th>\n",
              "      <th>max</th>\n",
              "    </tr>\n",
              "  </thead>\n",
              "  <tbody>\n",
              "    <tr>\n",
              "      <th>age</th>\n",
              "      <td>30478.0</td>\n",
              "      <td>39.029694</td>\n",
              "      <td>10.332746</td>\n",
              "      <td>17.000</td>\n",
              "      <td>31.000</td>\n",
              "      <td>37.000</td>\n",
              "      <td>45.000</td>\n",
              "      <td>95.000</td>\n",
              "    </tr>\n",
              "    <tr>\n",
              "      <th>duration</th>\n",
              "      <td>30478.0</td>\n",
              "      <td>259.513124</td>\n",
              "      <td>261.746393</td>\n",
              "      <td>0.000</td>\n",
              "      <td>103.000</td>\n",
              "      <td>181.000</td>\n",
              "      <td>321.000</td>\n",
              "      <td>4918.000</td>\n",
              "    </tr>\n",
              "    <tr>\n",
              "      <th>campaign</th>\n",
              "      <td>30478.0</td>\n",
              "      <td>2.521721</td>\n",
              "      <td>2.720495</td>\n",
              "      <td>1.000</td>\n",
              "      <td>1.000</td>\n",
              "      <td>2.000</td>\n",
              "      <td>3.000</td>\n",
              "      <td>43.000</td>\n",
              "    </tr>\n",
              "    <tr>\n",
              "      <th>pdays</th>\n",
              "      <td>30478.0</td>\n",
              "      <td>956.318295</td>\n",
              "      <td>201.404843</td>\n",
              "      <td>0.000</td>\n",
              "      <td>999.000</td>\n",
              "      <td>999.000</td>\n",
              "      <td>999.000</td>\n",
              "      <td>999.000</td>\n",
              "    </tr>\n",
              "    <tr>\n",
              "      <th>previous</th>\n",
              "      <td>30478.0</td>\n",
              "      <td>0.194337</td>\n",
              "      <td>0.522862</td>\n",
              "      <td>0.000</td>\n",
              "      <td>0.000</td>\n",
              "      <td>0.000</td>\n",
              "      <td>0.000</td>\n",
              "      <td>7.000</td>\n",
              "    </tr>\n",
              "    <tr>\n",
              "      <th>emp.var.rate</th>\n",
              "      <td>30478.0</td>\n",
              "      <td>-0.071425</td>\n",
              "      <td>1.610306</td>\n",
              "      <td>-3.400</td>\n",
              "      <td>-1.800</td>\n",
              "      <td>1.100</td>\n",
              "      <td>1.400</td>\n",
              "      <td>1.400</td>\n",
              "    </tr>\n",
              "    <tr>\n",
              "      <th>cons.price.idx</th>\n",
              "      <td>30478.0</td>\n",
              "      <td>93.523376</td>\n",
              "      <td>0.585366</td>\n",
              "      <td>92.201</td>\n",
              "      <td>93.075</td>\n",
              "      <td>93.444</td>\n",
              "      <td>93.994</td>\n",
              "      <td>94.767</td>\n",
              "    </tr>\n",
              "    <tr>\n",
              "      <th>cons.conf.idx</th>\n",
              "      <td>30478.0</td>\n",
              "      <td>-40.602579</td>\n",
              "      <td>4.788790</td>\n",
              "      <td>-50.800</td>\n",
              "      <td>-42.700</td>\n",
              "      <td>-41.800</td>\n",
              "      <td>-36.400</td>\n",
              "      <td>-26.900</td>\n",
              "    </tr>\n",
              "    <tr>\n",
              "      <th>euribor3m</th>\n",
              "      <td>30478.0</td>\n",
              "      <td>3.459976</td>\n",
              "      <td>1.777215</td>\n",
              "      <td>0.634</td>\n",
              "      <td>1.313</td>\n",
              "      <td>4.856</td>\n",
              "      <td>4.961</td>\n",
              "      <td>5.045</td>\n",
              "    </tr>\n",
              "    <tr>\n",
              "      <th>nr.employed</th>\n",
              "      <td>30478.0</td>\n",
              "      <td>5160.813967</td>\n",
              "      <td>75.158267</td>\n",
              "      <td>4963.600</td>\n",
              "      <td>5099.100</td>\n",
              "      <td>5191.000</td>\n",
              "      <td>5228.100</td>\n",
              "      <td>5228.100</td>\n",
              "    </tr>\n",
              "  </tbody>\n",
              "</table>\n",
              "</div>"
            ],
            "text/plain": [
              "                  count         mean         std       min       25%  \\\n",
              "age             30478.0    39.029694   10.332746    17.000    31.000   \n",
              "duration        30478.0   259.513124  261.746393     0.000   103.000   \n",
              "campaign        30478.0     2.521721    2.720495     1.000     1.000   \n",
              "pdays           30478.0   956.318295  201.404843     0.000   999.000   \n",
              "previous        30478.0     0.194337    0.522862     0.000     0.000   \n",
              "emp.var.rate    30478.0    -0.071425    1.610306    -3.400    -1.800   \n",
              "cons.price.idx  30478.0    93.523376    0.585366    92.201    93.075   \n",
              "cons.conf.idx   30478.0   -40.602579    4.788790   -50.800   -42.700   \n",
              "euribor3m       30478.0     3.459976    1.777215     0.634     1.313   \n",
              "nr.employed     30478.0  5160.813967   75.158267  4963.600  5099.100   \n",
              "\n",
              "                     50%       75%       max  \n",
              "age               37.000    45.000    95.000  \n",
              "duration         181.000   321.000  4918.000  \n",
              "campaign           2.000     3.000    43.000  \n",
              "pdays            999.000   999.000   999.000  \n",
              "previous           0.000     0.000     7.000  \n",
              "emp.var.rate       1.100     1.400     1.400  \n",
              "cons.price.idx    93.444    93.994    94.767  \n",
              "cons.conf.idx    -41.800   -36.400   -26.900  \n",
              "euribor3m          4.856     4.961     5.045  \n",
              "nr.employed     5191.000  5228.100  5228.100  "
            ]
          },
          "metadata": {
            "tags": []
          },
          "execution_count": 54
        }
      ]
    },
    {
      "cell_type": "code",
      "metadata": {
        "id": "B1pIdOCP1Jzs",
        "colab_type": "code",
        "colab": {
          "base_uri": "https://localhost:8080/",
          "height": 210
        },
        "outputId": "768006b0-5081-4587-f143-cb1292ca3f52"
      },
      "source": [
        "df_new.var()"
      ],
      "execution_count": 55,
      "outputs": [
        {
          "output_type": "execute_result",
          "data": {
            "text/plain": [
              "age                 106.765631\n",
              "duration          68511.174468\n",
              "campaign              7.401093\n",
              "pdays             40563.910661\n",
              "previous              0.273385\n",
              "emp.var.rate          2.593086\n",
              "cons.price.idx        0.342654\n",
              "cons.conf.idx        22.932511\n",
              "euribor3m             3.158493\n",
              "nr.employed        5648.765108\n",
              "dtype: float64"
            ]
          },
          "metadata": {
            "tags": []
          },
          "execution_count": 55
        }
      ]
    },
    {
      "cell_type": "markdown",
      "metadata": {
        "id": "92nQSxOP1Jz0",
        "colab_type": "text"
      },
      "source": [
        "Because the variance is jommplang, we need to normalize all numeric data it using RobustScaler"
      ]
    },
    {
      "cell_type": "code",
      "metadata": {
        "id": "gDMRK-h61Jz1",
        "colab_type": "code",
        "colab": {}
      },
      "source": [
        "numeric = ['age','duration','campaign','pdays','previous','emp.var.rate','cons.price.idx','cons.conf.idx','euribor3m','nr.employed']\n",
        "for col in df_new[numeric]:\n",
        "    df_new[col] = RobustScaler().fit_transform(df_new[[col]])"
      ],
      "execution_count": 0,
      "outputs": []
    },
    {
      "cell_type": "code",
      "metadata": {
        "id": "jMxckIXi1Jz7",
        "colab_type": "code",
        "colab": {
          "base_uri": "https://localhost:8080/",
          "height": 215
        },
        "outputId": "5c82bd20-eaa9-40d6-c1e5-3731926cc8a8"
      },
      "source": [
        "df.head()"
      ],
      "execution_count": 57,
      "outputs": [
        {
          "output_type": "execute_result",
          "data": {
            "text/html": [
              "<div>\n",
              "<style scoped>\n",
              "    .dataframe tbody tr th:only-of-type {\n",
              "        vertical-align: middle;\n",
              "    }\n",
              "\n",
              "    .dataframe tbody tr th {\n",
              "        vertical-align: top;\n",
              "    }\n",
              "\n",
              "    .dataframe thead th {\n",
              "        text-align: right;\n",
              "    }\n",
              "</style>\n",
              "<table border=\"1\" class=\"dataframe\">\n",
              "  <thead>\n",
              "    <tr style=\"text-align: right;\">\n",
              "      <th></th>\n",
              "      <th>age</th>\n",
              "      <th>job</th>\n",
              "      <th>marital</th>\n",
              "      <th>education</th>\n",
              "      <th>default</th>\n",
              "      <th>housing</th>\n",
              "      <th>loan</th>\n",
              "      <th>contact</th>\n",
              "      <th>month</th>\n",
              "      <th>day_of_week</th>\n",
              "      <th>duration</th>\n",
              "      <th>campaign</th>\n",
              "      <th>pdays</th>\n",
              "      <th>previous</th>\n",
              "      <th>poutcome</th>\n",
              "      <th>emp.var.rate</th>\n",
              "      <th>cons.price.idx</th>\n",
              "      <th>cons.conf.idx</th>\n",
              "      <th>euribor3m</th>\n",
              "      <th>nr.employed</th>\n",
              "      <th>y</th>\n",
              "    </tr>\n",
              "  </thead>\n",
              "  <tbody>\n",
              "    <tr>\n",
              "      <th>0</th>\n",
              "      <td>56</td>\n",
              "      <td>housemaid</td>\n",
              "      <td>married</td>\n",
              "      <td>basic.4y</td>\n",
              "      <td>no</td>\n",
              "      <td>no</td>\n",
              "      <td>no</td>\n",
              "      <td>telephone</td>\n",
              "      <td>may</td>\n",
              "      <td>mon</td>\n",
              "      <td>261</td>\n",
              "      <td>1</td>\n",
              "      <td>999</td>\n",
              "      <td>0</td>\n",
              "      <td>nonexistent</td>\n",
              "      <td>1.1</td>\n",
              "      <td>93.994</td>\n",
              "      <td>-36.4</td>\n",
              "      <td>4.857</td>\n",
              "      <td>5191.0</td>\n",
              "      <td>no</td>\n",
              "    </tr>\n",
              "    <tr>\n",
              "      <th>1</th>\n",
              "      <td>57</td>\n",
              "      <td>services</td>\n",
              "      <td>married</td>\n",
              "      <td>high.school</td>\n",
              "      <td>unknown</td>\n",
              "      <td>no</td>\n",
              "      <td>no</td>\n",
              "      <td>telephone</td>\n",
              "      <td>may</td>\n",
              "      <td>mon</td>\n",
              "      <td>149</td>\n",
              "      <td>1</td>\n",
              "      <td>999</td>\n",
              "      <td>0</td>\n",
              "      <td>nonexistent</td>\n",
              "      <td>1.1</td>\n",
              "      <td>93.994</td>\n",
              "      <td>-36.4</td>\n",
              "      <td>4.857</td>\n",
              "      <td>5191.0</td>\n",
              "      <td>no</td>\n",
              "    </tr>\n",
              "    <tr>\n",
              "      <th>2</th>\n",
              "      <td>37</td>\n",
              "      <td>services</td>\n",
              "      <td>married</td>\n",
              "      <td>high.school</td>\n",
              "      <td>no</td>\n",
              "      <td>yes</td>\n",
              "      <td>no</td>\n",
              "      <td>telephone</td>\n",
              "      <td>may</td>\n",
              "      <td>mon</td>\n",
              "      <td>226</td>\n",
              "      <td>1</td>\n",
              "      <td>999</td>\n",
              "      <td>0</td>\n",
              "      <td>nonexistent</td>\n",
              "      <td>1.1</td>\n",
              "      <td>93.994</td>\n",
              "      <td>-36.4</td>\n",
              "      <td>4.857</td>\n",
              "      <td>5191.0</td>\n",
              "      <td>no</td>\n",
              "    </tr>\n",
              "    <tr>\n",
              "      <th>3</th>\n",
              "      <td>40</td>\n",
              "      <td>admin.</td>\n",
              "      <td>married</td>\n",
              "      <td>basic.6y</td>\n",
              "      <td>no</td>\n",
              "      <td>no</td>\n",
              "      <td>no</td>\n",
              "      <td>telephone</td>\n",
              "      <td>may</td>\n",
              "      <td>mon</td>\n",
              "      <td>151</td>\n",
              "      <td>1</td>\n",
              "      <td>999</td>\n",
              "      <td>0</td>\n",
              "      <td>nonexistent</td>\n",
              "      <td>1.1</td>\n",
              "      <td>93.994</td>\n",
              "      <td>-36.4</td>\n",
              "      <td>4.857</td>\n",
              "      <td>5191.0</td>\n",
              "      <td>no</td>\n",
              "    </tr>\n",
              "    <tr>\n",
              "      <th>4</th>\n",
              "      <td>56</td>\n",
              "      <td>services</td>\n",
              "      <td>married</td>\n",
              "      <td>high.school</td>\n",
              "      <td>no</td>\n",
              "      <td>no</td>\n",
              "      <td>yes</td>\n",
              "      <td>telephone</td>\n",
              "      <td>may</td>\n",
              "      <td>mon</td>\n",
              "      <td>307</td>\n",
              "      <td>1</td>\n",
              "      <td>999</td>\n",
              "      <td>0</td>\n",
              "      <td>nonexistent</td>\n",
              "      <td>1.1</td>\n",
              "      <td>93.994</td>\n",
              "      <td>-36.4</td>\n",
              "      <td>4.857</td>\n",
              "      <td>5191.0</td>\n",
              "      <td>no</td>\n",
              "    </tr>\n",
              "  </tbody>\n",
              "</table>\n",
              "</div>"
            ],
            "text/plain": [
              "   age        job  marital    education  default housing loan    contact  \\\n",
              "0   56  housemaid  married     basic.4y       no      no   no  telephone   \n",
              "1   57   services  married  high.school  unknown      no   no  telephone   \n",
              "2   37   services  married  high.school       no     yes   no  telephone   \n",
              "3   40     admin.  married     basic.6y       no      no   no  telephone   \n",
              "4   56   services  married  high.school       no      no  yes  telephone   \n",
              "\n",
              "  month day_of_week  duration  campaign  pdays  previous     poutcome  \\\n",
              "0   may         mon       261         1    999         0  nonexistent   \n",
              "1   may         mon       149         1    999         0  nonexistent   \n",
              "2   may         mon       226         1    999         0  nonexistent   \n",
              "3   may         mon       151         1    999         0  nonexistent   \n",
              "4   may         mon       307         1    999         0  nonexistent   \n",
              "\n",
              "   emp.var.rate  cons.price.idx  cons.conf.idx  euribor3m  nr.employed   y  \n",
              "0           1.1          93.994          -36.4      4.857       5191.0  no  \n",
              "1           1.1          93.994          -36.4      4.857       5191.0  no  \n",
              "2           1.1          93.994          -36.4      4.857       5191.0  no  \n",
              "3           1.1          93.994          -36.4      4.857       5191.0  no  \n",
              "4           1.1          93.994          -36.4      4.857       5191.0  no  "
            ]
          },
          "metadata": {
            "tags": []
          },
          "execution_count": 57
        }
      ]
    },
    {
      "cell_type": "code",
      "metadata": {
        "id": "otowy94C1J0B",
        "colab_type": "code",
        "colab": {
          "base_uri": "https://localhost:8080/",
          "height": 70
        },
        "outputId": "6d3aa8b1-d497-4061-ba3e-74514302704b"
      },
      "source": [
        "df_new.select_dtypes(include='object').columns"
      ],
      "execution_count": 58,
      "outputs": [
        {
          "output_type": "execute_result",
          "data": {
            "text/plain": [
              "Index(['job', 'marital', 'education', 'default', 'housing', 'loan', 'contact',\n",
              "       'month', 'day_of_week', 'poutcome', 'y'],\n",
              "      dtype='object')"
            ]
          },
          "metadata": {
            "tags": []
          },
          "execution_count": 58
        }
      ]
    },
    {
      "cell_type": "code",
      "metadata": {
        "id": "JUZ3Lglu1J0J",
        "colab_type": "code",
        "colab": {
          "base_uri": "https://localhost:8080/",
          "height": 72
        },
        "outputId": "2f8c586a-7e98-4c1d-e626-f1d6e7902a88"
      },
      "source": [
        "cat = ['job', 'marital', 'education', 'default', 'housing', 'loan', 'contact',\n",
        "       'month', 'day_of_week', 'poutcome']\n",
        "\n",
        "for col in df_new[cat]:\n",
        "    df_new[col] = LabelEncoder().fit_transform(df_new[[col]])"
      ],
      "execution_count": 59,
      "outputs": [
        {
          "output_type": "stream",
          "text": [
            "/usr/local/lib/python3.6/dist-packages/sklearn/preprocessing/_label.py:251: DataConversionWarning: A column-vector y was passed when a 1d array was expected. Please change the shape of y to (n_samples, ), for example using ravel().\n",
            "  y = column_or_1d(y, warn=True)\n"
          ],
          "name": "stderr"
        }
      ]
    },
    {
      "cell_type": "code",
      "metadata": {
        "id": "uA_QBVEF1J0P",
        "colab_type": "code",
        "colab": {
          "base_uri": "https://localhost:8080/",
          "height": 301
        },
        "outputId": "4876f87b-3992-44e2-b229-923b0cbe94d6"
      },
      "source": [
        "sns.set_palette('coolwarm')\n",
        "sns.countplot('y',data=df)\n",
        "plt.title('DIFFERENCE BETWEEN NO AND YES',fontweight='bold')\n",
        "plt.show()"
      ],
      "execution_count": 60,
      "outputs": [
        {
          "output_type": "display_data",
          "data": {
            "image/png": "[encoded data removed]",
            "text/plain": [
              "<Figure size 432x288 with 1 Axes>"
            ]
          },
          "metadata": {
            "tags": []
          }
        }
      ]
    },
    {
      "cell_type": "markdown",
      "metadata": {
        "id": "ffvtUmAZ1J0W",
        "colab_type": "text"
      },
      "source": [
        "Because the difference is too great, we must balance the amount of data so our model can learn more accurately"
      ]
    },
    {
      "cell_type": "code",
      "metadata": {
        "id": "9ectdbOk1J0X",
        "colab_type": "code",
        "colab": {}
      },
      "source": [
        "y_no = df_new[df_new['y'] == 'no']\n",
        "y_yes = df_new[df_new['y'] == 'yes']"
      ],
      "execution_count": 0,
      "outputs": []
    },
    {
      "cell_type": "code",
      "metadata": {
        "id": "mZEdr_rD1J0c",
        "colab_type": "code",
        "colab": {
          "base_uri": "https://localhost:8080/",
          "height": 34
        },
        "outputId": "31d9fde1-79e6-4c1c-ef3f-5981b4d47238"
      },
      "source": [
        "y_no.shape"
      ],
      "execution_count": 62,
      "outputs": [
        {
          "output_type": "execute_result",
          "data": {
            "text/plain": [
              "(26620, 21)"
            ]
          },
          "metadata": {
            "tags": []
          },
          "execution_count": 62
        }
      ]
    },
    {
      "cell_type": "code",
      "metadata": {
        "id": "0HtlWWym1J0j",
        "colab_type": "code",
        "colab": {
          "base_uri": "https://localhost:8080/",
          "height": 34
        },
        "outputId": "aae4daf9-550b-49aa-82c0-d2fb267a7c7a"
      },
      "source": [
        "y_yes.shape"
      ],
      "execution_count": 63,
      "outputs": [
        {
          "output_type": "execute_result",
          "data": {
            "text/plain": [
              "(3858, 21)"
            ]
          },
          "metadata": {
            "tags": []
          },
          "execution_count": 63
        }
      ]
    },
    {
      "cell_type": "code",
      "metadata": {
        "id": "i8g4UZdm1J0t",
        "colab_type": "code",
        "colab": {}
      },
      "source": [
        "y_no = y_no.sample(len(y_yes),random_state=46)"
      ],
      "execution_count": 0,
      "outputs": []
    },
    {
      "cell_type": "code",
      "metadata": {
        "id": "O3j6Y_io1J0z",
        "colab_type": "code",
        "colab": {}
      },
      "source": [
        "df_new = pd.concat([y_no,y_yes])"
      ],
      "execution_count": 0,
      "outputs": []
    },
    {
      "cell_type": "code",
      "metadata": {
        "id": "oWtDajdE1J03",
        "colab_type": "code",
        "colab": {
          "base_uri": "https://localhost:8080/",
          "height": 301
        },
        "outputId": "ed3e90d3-ed08-4639-9fa7-e0ee6325d8a2"
      },
      "source": [
        "sns.set_palette('coolwarm')\n",
        "sns.countplot('y',data=df_new)\n",
        "plt.title('DIFFERENCE BETWEEN NO AND YES',fontweight='bold')\n",
        "plt.show()"
      ],
      "execution_count": 66,
      "outputs": [
        {
          "output_type": "display_data",
          "data": {
            "image/png": "[encoded data removed]",
            "text/plain": [
              "<Figure size 432x288 with 1 Axes>"
            ]
          },
          "metadata": {
            "tags": []
          }
        }
      ]
    },
    {
      "cell_type": "markdown",
      "metadata": {
        "id": "S0bAQzhf1J08",
        "colab_type": "text"
      },
      "source": [
        "now our data is already balance, now we must split our data into X variable and y (target) variable"
      ]
    },
    {
      "cell_type": "code",
      "metadata": {
        "id": "P8DkAAth1J09",
        "colab_type": "code",
        "colab": {}
      },
      "source": [
        "y = df_new['y']\n",
        "X = df_new.drop('y',axis=1)"
      ],
      "execution_count": 0,
      "outputs": []
    },
    {
      "cell_type": "code",
      "metadata": {
        "id": "5zHP2zuT1J1B",
        "colab_type": "code",
        "colab": {}
      },
      "source": [
        "X_train, X_test, y_train, y_test = train_test_split(X,y,stratify=y,test_size=0.25)"
      ],
      "execution_count": 0,
      "outputs": []
    },
    {
      "cell_type": "markdown",
      "metadata": {
        "id": "HQqiDF9C1J1G",
        "colab_type": "text"
      },
      "source": [
        "# 3. Model Training\n",
        "Before we do model training, we must split the data to 2 type, which is training data and test data"
      ]
    },
    {
      "cell_type": "code",
      "metadata": {
        "id": "I7VY5vLq1J1H",
        "colab_type": "code",
        "colab": {
          "base_uri": "https://localhost:8080/",
          "height": 105
        },
        "outputId": "d998278b-cb4d-472b-929b-e31b9a14a814"
      },
      "source": [
        "clf = LogisticRegression(n_jobs=-1)\n",
        "clf.fit(X_train,y_train)"
      ],
      "execution_count": 69,
      "outputs": [
        {
          "output_type": "execute_result",
          "data": {
            "text/plain": [
              "LogisticRegression(C=1.0, class_weight=None, dual=False, fit_intercept=True,\n",
              "                   intercept_scaling=1, l1_ratio=None, max_iter=100,\n",
              "                   multi_class='auto', n_jobs=-1, penalty='l2',\n",
              "                   random_state=None, solver='lbfgs', tol=0.0001, verbose=0,\n",
              "                   warm_start=False)"
            ]
          },
          "metadata": {
            "tags": []
          },
          "execution_count": 69
        }
      ]
    },
    {
      "cell_type": "code",
      "metadata": {
        "id": "PxQqL7N-1J1N",
        "colab_type": "code",
        "colab": {
          "base_uri": "https://localhost:8080/",
          "height": 34
        },
        "outputId": "3792c08b-aaac-4298-f899-fcd85f4d2c13"
      },
      "source": [
        "accuracy_score(y_test,clf.predict(X_test))"
      ],
      "execution_count": 70,
      "outputs": [
        {
          "output_type": "execute_result",
          "data": {
            "text/plain": [
              "0.8475894245723172"
            ]
          },
          "metadata": {
            "tags": []
          },
          "execution_count": 70
        }
      ]
    },
    {
      "cell_type": "code",
      "metadata": {
        "id": "fSNfhJeL1J1T",
        "colab_type": "code",
        "colab": {
          "base_uri": "https://localhost:8080/",
          "height": 52
        },
        "outputId": "6786941d-d212-45bd-eb94-291ca1438a77"
      },
      "source": [
        "confusion_matrix(y_test,clf.predict(X_test))"
      ],
      "execution_count": 71,
      "outputs": [
        {
          "output_type": "execute_result",
          "data": {
            "text/plain": [
              "array([[806, 159],\n",
              "       [135, 829]])"
            ]
          },
          "metadata": {
            "tags": []
          },
          "execution_count": 71
        }
      ]
    },
    {
      "cell_type": "code",
      "metadata": {
        "id": "RDEeECbf1J1Y",
        "colab_type": "code",
        "colab": {
          "base_uri": "https://localhost:8080/",
          "height": 175
        },
        "outputId": "6982d35f-7a20-456c-a3ea-82106bbd30e8"
      },
      "source": [
        "print(classification_report(y_test,clf.predict(X_test)))"
      ],
      "execution_count": 72,
      "outputs": [
        {
          "output_type": "stream",
          "text": [
            "              precision    recall  f1-score   support\n",
            "\n",
            "          no       0.86      0.84      0.85       965\n",
            "         yes       0.84      0.86      0.85       964\n",
            "\n",
            "    accuracy                           0.85      1929\n",
            "   macro avg       0.85      0.85      0.85      1929\n",
            "weighted avg       0.85      0.85      0.85      1929\n",
            "\n"
          ],
          "name": "stdout"
        }
      ]
    },
    {
      "cell_type": "markdown",
      "metadata": {
        "id": "zE38I1kz1J1c",
        "colab_type": "text"
      },
      "source": [
        "Now, we need to hyperparameter tuning our model, we use Randomsearch because gridsearch is computional expensive.\n",
        "first we must know the parameter inside our classifier"
      ]
    },
    {
      "cell_type": "code",
      "metadata": {
        "id": "kY9WJFwO1J1e",
        "colab_type": "code",
        "colab": {
          "base_uri": "https://localhost:8080/",
          "height": 55
        },
        "outputId": "4a86f670-86f0-4069-f3aa-8ec50dc54da2"
      },
      "source": [
        "clf.get_params().keys()"
      ],
      "execution_count": 73,
      "outputs": [
        {
          "output_type": "execute_result",
          "data": {
            "text/plain": [
              "dict_keys(['C', 'class_weight', 'dual', 'fit_intercept', 'intercept_scaling', 'l1_ratio', 'max_iter', 'multi_class', 'n_jobs', 'penalty', 'random_state', 'solver', 'tol', 'verbose', 'warm_start'])"
            ]
          },
          "metadata": {
            "tags": []
          },
          "execution_count": 73
        }
      ]
    },
    {
      "cell_type": "markdown",
      "metadata": {
        "id": "yd01l9L21J1i",
        "colab_type": "text"
      },
      "source": [
        "after we know the parameter inside our model, we create a dict with paramter and the value we want to check"
      ]
    },
    {
      "cell_type": "code",
      "metadata": {
        "id": "48r0IFxr1J1i",
        "colab_type": "code",
        "colab": {}
      },
      "source": [
        "param = {'C' : [0.0001,0.001,0.01,0.1,1], 'class_weight' : ['dict','balanced',None], 'dual' : [True,False], 'fit_intercept' : [True,False], 'intercept_scaling' : [0.0001,0.001,0.01,0.1,1], 'l1_ratio' : [0.0001,0.001,0.01,0.1,1], 'max_iter' : [1,100,1000], 'multi_class' : ['auto','ovr','multinominal'],'penalty' : ['l1','l2','none','liblinear'] , 'random_state' : [46,48], 'solver' : ['newton-cg','lbfgs','liblinear','sag','saga'], 'tol' : [0.0001,0.001,0.01,0.1,1], 'verbose' : [0.0001,0.001,0.01,0.1,1], 'warm_start' : [True,False]}"
      ],
      "execution_count": 0,
      "outputs": []
    },
    {
      "cell_type": "code",
      "metadata": {
        "id": "qkdDjrSn1J1o",
        "colab_type": "code",
        "colab": {}
      },
      "source": [
        "clf_new = RandomizedSearchCV(LogisticRegression(),param,random_state=46)"
      ],
      "execution_count": 0,
      "outputs": []
    },
    {
      "cell_type": "code",
      "metadata": {
        "id": "ORD6nkSW1J1u",
        "colab_type": "code",
        "colab": {
          "base_uri": "https://localhost:8080/",
          "height": 1000
        },
        "outputId": "19416867-fd7d-4526-eb3b-d174b6745403"
      },
      "source": [
        "clf_new.fit(X_train,y_train)"
      ],
      "execution_count": 76,
      "outputs": [
        {
          "output_type": "stream",
          "text": [
            "/usr/local/lib/python3.6/dist-packages/sklearn/model_selection/_validation.py:536: FitFailedWarning: Estimator fit failed. The score on this train-test partition for these parameters will be set to nan. Details: \n",
            "ValueError: penalty='none' is not supported for the liblinear solver\n",
            "\n",
            "  FitFailedWarning)\n",
            "/usr/local/lib/python3.6/dist-packages/sklearn/model_selection/_validation.py:536: FitFailedWarning: Estimator fit failed. The score on this train-test partition for these parameters will be set to nan. Details: \n",
            "ValueError: Solver sag supports only 'l2' or 'none' penalties, got l1 penalty.\n",
            "\n",
            "  FitFailedWarning)\n",
            "/usr/local/lib/python3.6/dist-packages/sklearn/linear_model/_logistic.py:1501: UserWarning: l1_ratio parameter is only used when penalty is 'elasticnet'. Got (penalty=none)\n",
            "  \"(penalty={})\".format(self.penalty))\n",
            "/usr/local/lib/python3.6/dist-packages/sklearn/linear_model/_logistic.py:1505: UserWarning: Setting penalty='none' will ignore the C and l1_ratio parameters\n",
            "  \"Setting penalty='none' will ignore the C and l1_ratio \"\n",
            "/usr/local/lib/python3.6/dist-packages/sklearn/model_selection/_validation.py:536: FitFailedWarning: Estimator fit failed. The score on this train-test partition for these parameters will be set to nan. Details: \n",
            "ValueError: multi_class should be 'multinomial', 'ovr' or 'auto'. Got multinominal.\n",
            "\n",
            "  FitFailedWarning)\n",
            "/usr/local/lib/python3.6/dist-packages/sklearn/linear_model/_logistic.py:1501: UserWarning: l1_ratio parameter is only used when penalty is 'elasticnet'. Got (penalty=none)\n",
            "  \"(penalty={})\".format(self.penalty))\n",
            "/usr/local/lib/python3.6/dist-packages/sklearn/linear_model/_logistic.py:1505: UserWarning: Setting penalty='none' will ignore the C and l1_ratio parameters\n",
            "  \"Setting penalty='none' will ignore the C and l1_ratio \"\n",
            "/usr/local/lib/python3.6/dist-packages/sklearn/model_selection/_validation.py:536: FitFailedWarning: Estimator fit failed. The score on this train-test partition for these parameters will be set to nan. Details: \n",
            "ValueError: multi_class should be 'multinomial', 'ovr' or 'auto'. Got multinominal.\n",
            "\n",
            "  FitFailedWarning)\n",
            "/usr/local/lib/python3.6/dist-packages/sklearn/linear_model/_logistic.py:1501: UserWarning: l1_ratio parameter is only used when penalty is 'elasticnet'. Got (penalty=none)\n",
            "  \"(penalty={})\".format(self.penalty))\n",
            "/usr/local/lib/python3.6/dist-packages/sklearn/linear_model/_logistic.py:1505: UserWarning: Setting penalty='none' will ignore the C and l1_ratio parameters\n",
            "  \"Setting penalty='none' will ignore the C and l1_ratio \"\n",
            "/usr/local/lib/python3.6/dist-packages/sklearn/model_selection/_validation.py:536: FitFailedWarning: Estimator fit failed. The score on this train-test partition for these parameters will be set to nan. Details: \n",
            "ValueError: multi_class should be 'multinomial', 'ovr' or 'auto'. Got multinominal.\n",
            "\n",
            "  FitFailedWarning)\n",
            "/usr/local/lib/python3.6/dist-packages/sklearn/linear_model/_logistic.py:1501: UserWarning: l1_ratio parameter is only used when penalty is 'elasticnet'. Got (penalty=none)\n",
            "  \"(penalty={})\".format(self.penalty))\n",
            "/usr/local/lib/python3.6/dist-packages/sklearn/linear_model/_logistic.py:1505: UserWarning: Setting penalty='none' will ignore the C and l1_ratio parameters\n",
            "  \"Setting penalty='none' will ignore the C and l1_ratio \"\n",
            "/usr/local/lib/python3.6/dist-packages/sklearn/model_selection/_validation.py:536: FitFailedWarning: Estimator fit failed. The score on this train-test partition for these parameters will be set to nan. Details: \n",
            "ValueError: multi_class should be 'multinomial', 'ovr' or 'auto'. Got multinominal.\n",
            "\n",
            "  FitFailedWarning)\n",
            "/usr/local/lib/python3.6/dist-packages/sklearn/linear_model/_logistic.py:1501: UserWarning: l1_ratio parameter is only used when penalty is 'elasticnet'. Got (penalty=none)\n",
            "  \"(penalty={})\".format(self.penalty))\n",
            "/usr/local/lib/python3.6/dist-packages/sklearn/linear_model/_logistic.py:1505: UserWarning: Setting penalty='none' will ignore the C and l1_ratio parameters\n",
            "  \"Setting penalty='none' will ignore the C and l1_ratio \"\n",
            "/usr/local/lib/python3.6/dist-packages/sklearn/model_selection/_validation.py:536: FitFailedWarning: Estimator fit failed. The score on this train-test partition for these parameters will be set to nan. Details: \n",
            "ValueError: multi_class should be 'multinomial', 'ovr' or 'auto'. Got multinominal.\n",
            "\n",
            "  FitFailedWarning)\n",
            "/usr/local/lib/python3.6/dist-packages/sklearn/linear_model/_logistic.py:1501: UserWarning: l1_ratio parameter is only used when penalty is 'elasticnet'. Got (penalty=none)\n",
            "  \"(penalty={})\".format(self.penalty))\n",
            "/usr/local/lib/python3.6/dist-packages/sklearn/linear_model/_logistic.py:1505: UserWarning: Setting penalty='none' will ignore the C and l1_ratio parameters\n",
            "  \"Setting penalty='none' will ignore the C and l1_ratio \"\n",
            "[Parallel(n_jobs=1)]: Using backend SequentialBackend with 1 concurrent workers.\n",
            "[Parallel(n_jobs=1)]: Done   1 out of   1 | elapsed:    1.0s finished\n",
            "/usr/local/lib/python3.6/dist-packages/sklearn/linear_model/_logistic.py:1501: UserWarning: l1_ratio parameter is only used when penalty is 'elasticnet'. Got (penalty=none)\n",
            "  \"(penalty={})\".format(self.penalty))\n",
            "/usr/local/lib/python3.6/dist-packages/sklearn/linear_model/_logistic.py:1505: UserWarning: Setting penalty='none' will ignore the C and l1_ratio parameters\n",
            "  \"Setting penalty='none' will ignore the C and l1_ratio \"\n",
            "[Parallel(n_jobs=1)]: Using backend SequentialBackend with 1 concurrent workers.\n",
            "[Parallel(n_jobs=1)]: Done   1 out of   1 | elapsed:    1.1s finished\n",
            "/usr/local/lib/python3.6/dist-packages/sklearn/linear_model/_logistic.py:1501: UserWarning: l1_ratio parameter is only used when penalty is 'elasticnet'. Got (penalty=none)\n",
            "  \"(penalty={})\".format(self.penalty))\n",
            "/usr/local/lib/python3.6/dist-packages/sklearn/linear_model/_logistic.py:1505: UserWarning: Setting penalty='none' will ignore the C and l1_ratio parameters\n",
            "  \"Setting penalty='none' will ignore the C and l1_ratio \"\n",
            "[Parallel(n_jobs=1)]: Using backend SequentialBackend with 1 concurrent workers.\n",
            "[Parallel(n_jobs=1)]: Done   1 out of   1 | elapsed:    1.0s finished\n",
            "/usr/local/lib/python3.6/dist-packages/sklearn/linear_model/_logistic.py:1501: UserWarning: l1_ratio parameter is only used when penalty is 'elasticnet'. Got (penalty=none)\n",
            "  \"(penalty={})\".format(self.penalty))\n",
            "/usr/local/lib/python3.6/dist-packages/sklearn/linear_model/_logistic.py:1505: UserWarning: Setting penalty='none' will ignore the C and l1_ratio parameters\n",
            "  \"Setting penalty='none' will ignore the C and l1_ratio \"\n",
            "[Parallel(n_jobs=1)]: Using backend SequentialBackend with 1 concurrent workers.\n",
            "[Parallel(n_jobs=1)]: Done   1 out of   1 | elapsed:    0.8s finished\n",
            "/usr/local/lib/python3.6/dist-packages/sklearn/linear_model/_logistic.py:1501: UserWarning: l1_ratio parameter is only used when penalty is 'elasticnet'. Got (penalty=none)\n",
            "  \"(penalty={})\".format(self.penalty))\n",
            "/usr/local/lib/python3.6/dist-packages/sklearn/linear_model/_logistic.py:1505: UserWarning: Setting penalty='none' will ignore the C and l1_ratio parameters\n",
            "  \"Setting penalty='none' will ignore the C and l1_ratio \"\n",
            "[Parallel(n_jobs=1)]: Using backend SequentialBackend with 1 concurrent workers.\n",
            "[Parallel(n_jobs=1)]: Done   1 out of   1 | elapsed:    0.8s finished\n",
            "/usr/local/lib/python3.6/dist-packages/sklearn/model_selection/_validation.py:536: FitFailedWarning: Estimator fit failed. The score on this train-test partition for these parameters will be set to nan. Details: \n",
            "ValueError: Solver lbfgs supports only 'l2' or 'none' penalties, got l1 penalty.\n",
            "\n",
            "  FitFailedWarning)\n",
            "/usr/local/lib/python3.6/dist-packages/sklearn/linear_model/_logistic.py:1501: UserWarning: l1_ratio parameter is only used when penalty is 'elasticnet'. Got (penalty=none)\n",
            "  \"(penalty={})\".format(self.penalty))\n",
            "/usr/local/lib/python3.6/dist-packages/sklearn/linear_model/_logistic.py:1505: UserWarning: Setting penalty='none' will ignore the C and l1_ratio parameters\n",
            "  \"Setting penalty='none' will ignore the C and l1_ratio \"\n",
            "[Parallel(n_jobs=1)]: Using backend SequentialBackend with 1 concurrent workers.\n"
          ],
          "name": "stderr"
        },
        {
          "output_type": "stream",
          "text": [
            "max_iter reached after 1 seconds\n"
          ],
          "name": "stdout"
        },
        {
          "output_type": "stream",
          "text": [
            "/usr/local/lib/python3.6/dist-packages/sklearn/linear_model/_sag.py:330: ConvergenceWarning: The max_iter was reached which means the coef_ did not converge\n",
            "  \"the coef_ did not converge\", ConvergenceWarning)\n",
            "[Parallel(n_jobs=1)]: Done   1 out of   1 | elapsed:    1.3s finished\n",
            "/usr/local/lib/python3.6/dist-packages/sklearn/linear_model/_logistic.py:1501: UserWarning: l1_ratio parameter is only used when penalty is 'elasticnet'. Got (penalty=none)\n",
            "  \"(penalty={})\".format(self.penalty))\n",
            "/usr/local/lib/python3.6/dist-packages/sklearn/linear_model/_logistic.py:1505: UserWarning: Setting penalty='none' will ignore the C and l1_ratio parameters\n",
            "  \"Setting penalty='none' will ignore the C and l1_ratio \"\n",
            "[Parallel(n_jobs=1)]: Using backend SequentialBackend with 1 concurrent workers.\n"
          ],
          "name": "stderr"
        },
        {
          "output_type": "stream",
          "text": [
            "max_iter reached after 1 seconds\n"
          ],
          "name": "stdout"
        },
        {
          "output_type": "stream",
          "text": [
            "/usr/local/lib/python3.6/dist-packages/sklearn/linear_model/_sag.py:330: ConvergenceWarning: The max_iter was reached which means the coef_ did not converge\n",
            "  \"the coef_ did not converge\", ConvergenceWarning)\n",
            "[Parallel(n_jobs=1)]: Done   1 out of   1 | elapsed:    1.3s finished\n",
            "/usr/local/lib/python3.6/dist-packages/sklearn/linear_model/_logistic.py:1501: UserWarning: l1_ratio parameter is only used when penalty is 'elasticnet'. Got (penalty=none)\n",
            "  \"(penalty={})\".format(self.penalty))\n",
            "/usr/local/lib/python3.6/dist-packages/sklearn/linear_model/_logistic.py:1505: UserWarning: Setting penalty='none' will ignore the C and l1_ratio parameters\n",
            "  \"Setting penalty='none' will ignore the C and l1_ratio \"\n",
            "[Parallel(n_jobs=1)]: Using backend SequentialBackend with 1 concurrent workers.\n"
          ],
          "name": "stderr"
        },
        {
          "output_type": "stream",
          "text": [
            "max_iter reached after 1 seconds\n"
          ],
          "name": "stdout"
        },
        {
          "output_type": "stream",
          "text": [
            "/usr/local/lib/python3.6/dist-packages/sklearn/linear_model/_sag.py:330: ConvergenceWarning: The max_iter was reached which means the coef_ did not converge\n",
            "  \"the coef_ did not converge\", ConvergenceWarning)\n",
            "[Parallel(n_jobs=1)]: Done   1 out of   1 | elapsed:    1.3s finished\n",
            "/usr/local/lib/python3.6/dist-packages/sklearn/linear_model/_logistic.py:1501: UserWarning: l1_ratio parameter is only used when penalty is 'elasticnet'. Got (penalty=none)\n",
            "  \"(penalty={})\".format(self.penalty))\n",
            "/usr/local/lib/python3.6/dist-packages/sklearn/linear_model/_logistic.py:1505: UserWarning: Setting penalty='none' will ignore the C and l1_ratio parameters\n",
            "  \"Setting penalty='none' will ignore the C and l1_ratio \"\n",
            "[Parallel(n_jobs=1)]: Using backend SequentialBackend with 1 concurrent workers.\n"
          ],
          "name": "stderr"
        },
        {
          "output_type": "stream",
          "text": [
            "max_iter reached after 2 seconds\n"
          ],
          "name": "stdout"
        },
        {
          "output_type": "stream",
          "text": [
            "/usr/local/lib/python3.6/dist-packages/sklearn/linear_model/_sag.py:330: ConvergenceWarning: The max_iter was reached which means the coef_ did not converge\n",
            "  \"the coef_ did not converge\", ConvergenceWarning)\n",
            "[Parallel(n_jobs=1)]: Done   1 out of   1 | elapsed:    1.2s finished\n",
            "/usr/local/lib/python3.6/dist-packages/sklearn/linear_model/_logistic.py:1501: UserWarning: l1_ratio parameter is only used when penalty is 'elasticnet'. Got (penalty=none)\n",
            "  \"(penalty={})\".format(self.penalty))\n",
            "/usr/local/lib/python3.6/dist-packages/sklearn/linear_model/_logistic.py:1505: UserWarning: Setting penalty='none' will ignore the C and l1_ratio parameters\n",
            "  \"Setting penalty='none' will ignore the C and l1_ratio \"\n",
            "[Parallel(n_jobs=1)]: Using backend SequentialBackend with 1 concurrent workers.\n"
          ],
          "name": "stderr"
        },
        {
          "output_type": "stream",
          "text": [
            "max_iter reached after 1 seconds\n"
          ],
          "name": "stdout"
        },
        {
          "output_type": "stream",
          "text": [
            "/usr/local/lib/python3.6/dist-packages/sklearn/linear_model/_sag.py:330: ConvergenceWarning: The max_iter was reached which means the coef_ did not converge\n",
            "  \"the coef_ did not converge\", ConvergenceWarning)\n",
            "[Parallel(n_jobs=1)]: Done   1 out of   1 | elapsed:    1.2s finished\n",
            "/usr/local/lib/python3.6/dist-packages/sklearn/model_selection/_validation.py:536: FitFailedWarning: Estimator fit failed. The score on this train-test partition for these parameters will be set to nan. Details: \n",
            "ValueError: Logistic Regression supports only penalties in ['l1', 'l2', 'elasticnet', 'none'], got liblinear.\n",
            "\n",
            "  FitFailedWarning)\n",
            "/usr/local/lib/python3.6/dist-packages/sklearn/linear_model/_logistic.py:1501: UserWarning: l1_ratio parameter is only used when penalty is 'elasticnet'. Got (penalty=none)\n",
            "  \"(penalty={})\".format(self.penalty))\n",
            "/usr/local/lib/python3.6/dist-packages/sklearn/linear_model/_logistic.py:1505: UserWarning: Setting penalty='none' will ignore the C and l1_ratio parameters\n",
            "  \"Setting penalty='none' will ignore the C and l1_ratio \"\n",
            "[Parallel(n_jobs=1)]: Using backend SequentialBackend with 1 concurrent workers.\n",
            "[Parallel(n_jobs=1)]: Done   1 out of   1 | elapsed:    1.1s finished\n"
          ],
          "name": "stderr"
        },
        {
          "output_type": "execute_result",
          "data": {
            "text/plain": [
              "RandomizedSearchCV(cv=None, error_score=nan,\n",
              "                   estimator=LogisticRegression(C=1.0, class_weight=None,\n",
              "                                                dual=False, fit_intercept=True,\n",
              "                                                intercept_scaling=1,\n",
              "                                                l1_ratio=None, max_iter=100,\n",
              "                                                multi_class='auto', n_jobs=None,\n",
              "                                                penalty='l2', random_state=None,\n",
              "                                                solver='lbfgs', tol=0.0001,\n",
              "                                                verbose=0, warm_start=False),\n",
              "                   iid='deprecated', n_iter=10, n_jobs=None,\n",
              "                   param_distributions={'...\n",
              "                                        'multi_class': ['auto', 'ovr',\n",
              "                                                        'multinominal'],\n",
              "                                        'penalty': ['l1', 'l2', 'none',\n",
              "                                                    'liblinear'],\n",
              "                                        'random_state': [46, 48],\n",
              "                                        'solver': ['newton-cg', 'lbfgs',\n",
              "                                                   'liblinear', 'sag', 'saga'],\n",
              "                                        'tol': [0.0001, 0.001, 0.01, 0.1, 1],\n",
              "                                        'verbose': [0.0001, 0.001, 0.01, 0.1,\n",
              "                                                    1],\n",
              "                                        'warm_start': [True, False]},\n",
              "                   pre_dispatch='2*n_jobs', random_state=46, refit=True,\n",
              "                   return_train_score=False, scoring=None, verbose=0)"
            ]
          },
          "metadata": {
            "tags": []
          },
          "execution_count": 76
        }
      ]
    },
    {
      "cell_type": "code",
      "metadata": {
        "id": "JXaigX751J11",
        "colab_type": "code",
        "colab": {
          "base_uri": "https://localhost:8080/",
          "height": 263
        },
        "outputId": "14b49b31-85ac-4415-dda5-508c993dd2a5"
      },
      "source": [
        "clf_new.best_params_"
      ],
      "execution_count": 77,
      "outputs": [
        {
          "output_type": "execute_result",
          "data": {
            "text/plain": [
              "{'C': 0.1,\n",
              " 'class_weight': 'balanced',\n",
              " 'dual': False,\n",
              " 'fit_intercept': False,\n",
              " 'intercept_scaling': 0.001,\n",
              " 'l1_ratio': 0.0001,\n",
              " 'max_iter': 1000,\n",
              " 'multi_class': 'ovr',\n",
              " 'penalty': 'none',\n",
              " 'random_state': 48,\n",
              " 'solver': 'lbfgs',\n",
              " 'tol': 1,\n",
              " 'verbose': 1,\n",
              " 'warm_start': True}"
            ]
          },
          "metadata": {
            "tags": []
          },
          "execution_count": 77
        }
      ]
    },
    {
      "cell_type": "code",
      "metadata": {
        "id": "D4QN5KlF1J1-",
        "colab_type": "code",
        "colab": {
          "base_uri": "https://localhost:8080/",
          "height": 34
        },
        "outputId": "85f129e0-ce55-4131-e628-518e1e459a5c"
      },
      "source": [
        "accuracy_score(y_test,clf_new.predict(X_test))"
      ],
      "execution_count": 78,
      "outputs": [
        {
          "output_type": "execute_result",
          "data": {
            "text/plain": [
              "0.8543286677034733"
            ]
          },
          "metadata": {
            "tags": []
          },
          "execution_count": 78
        }
      ]
    },
    {
      "cell_type": "code",
      "metadata": {
        "id": "iHx5x43W1J2C",
        "colab_type": "code",
        "colab": {
          "base_uri": "https://localhost:8080/",
          "height": 52
        },
        "outputId": "0aa0e2e2-7861-4621-d876-079d2363c686"
      },
      "source": [
        "confusion_matrix(y_test,clf_new.predict(X_test))"
      ],
      "execution_count": 79,
      "outputs": [
        {
          "output_type": "execute_result",
          "data": {
            "text/plain": [
              "array([[807, 158],\n",
              "       [123, 841]])"
            ]
          },
          "metadata": {
            "tags": []
          },
          "execution_count": 79
        }
      ]
    },
    {
      "cell_type": "code",
      "metadata": {
        "id": "QA1uGuL41J2G",
        "colab_type": "code",
        "colab": {
          "base_uri": "https://localhost:8080/",
          "height": 175
        },
        "outputId": "a998c211-24db-411b-d001-49a305e2ca88"
      },
      "source": [
        "print(classification_report(y_test,clf_new.predict(X_test)))"
      ],
      "execution_count": 86,
      "outputs": [
        {
          "output_type": "stream",
          "text": [
            "              precision    recall  f1-score   support\n",
            "\n",
            "          no       0.87      0.84      0.85       965\n",
            "         yes       0.84      0.87      0.86       964\n",
            "\n",
            "    accuracy                           0.85      1929\n",
            "   macro avg       0.85      0.85      0.85      1929\n",
            "weighted avg       0.85      0.85      0.85      1929\n",
            "\n"
          ],
          "name": "stdout"
        }
      ]
    },
    {
      "cell_type": "code",
      "metadata": {
        "id": "cQiuOi_g1J2N",
        "colab_type": "code",
        "colab": {
          "base_uri": "https://localhost:8080/",
          "height": 1000
        },
        "outputId": "56e870d7-1701-45c5-b187-664f587665e3"
      },
      "source": [
        "from sklearn.model_selection import GridSearchCV\n",
        "clf_grid = RandomizedSearchCV(LogisticRegression(),param)\n",
        "clf_grid.fit(X_train,y_train)"
      ],
      "execution_count": 81,
      "outputs": [
        {
          "output_type": "stream",
          "text": [
            "ERROR! Session/line number was not unique in database. History logging moved to new session 59\n"
          ],
          "name": "stdout"
        },
        {
          "output_type": "stream",
          "text": [
            "/usr/local/lib/python3.6/dist-packages/sklearn/model_selection/_validation.py:536: FitFailedWarning: Estimator fit failed. The score on this train-test partition for these parameters will be set to nan. Details: \n",
            "ValueError: Logistic Regression supports only penalties in ['l1', 'l2', 'elasticnet', 'none'], got liblinear.\n",
            "\n",
            "  FitFailedWarning)\n",
            "/usr/local/lib/python3.6/dist-packages/sklearn/model_selection/_validation.py:536: FitFailedWarning: Estimator fit failed. The score on this train-test partition for these parameters will be set to nan. Details: \n",
            "ValueError: Solver lbfgs supports only 'l2' or 'none' penalties, got l1 penalty.\n",
            "\n",
            "  FitFailedWarning)\n",
            "/usr/local/lib/python3.6/dist-packages/sklearn/linear_model/_logistic.py:1501: UserWarning: l1_ratio parameter is only used when penalty is 'elasticnet'. Got (penalty=none)\n",
            "  \"(penalty={})\".format(self.penalty))\n",
            "/usr/local/lib/python3.6/dist-packages/sklearn/linear_model/_logistic.py:1505: UserWarning: Setting penalty='none' will ignore the C and l1_ratio parameters\n",
            "  \"Setting penalty='none' will ignore the C and l1_ratio \"\n",
            "[Parallel(n_jobs=1)]: Using backend SequentialBackend with 1 concurrent workers.\n",
            "[Parallel(n_jobs=1)]: Done   1 out of   1 | elapsed:    0.3s finished\n",
            "/usr/local/lib/python3.6/dist-packages/sklearn/linear_model/_logistic.py:1501: UserWarning: l1_ratio parameter is only used when penalty is 'elasticnet'. Got (penalty=none)\n",
            "  \"(penalty={})\".format(self.penalty))\n",
            "/usr/local/lib/python3.6/dist-packages/sklearn/linear_model/_logistic.py:1505: UserWarning: Setting penalty='none' will ignore the C and l1_ratio parameters\n",
            "  \"Setting penalty='none' will ignore the C and l1_ratio \"\n",
            "[Parallel(n_jobs=1)]: Using backend SequentialBackend with 1 concurrent workers.\n",
            "[Parallel(n_jobs=1)]: Done   1 out of   1 | elapsed:    0.3s finished\n",
            "/usr/local/lib/python3.6/dist-packages/sklearn/linear_model/_logistic.py:1501: UserWarning: l1_ratio parameter is only used when penalty is 'elasticnet'. Got (penalty=none)\n",
            "  \"(penalty={})\".format(self.penalty))\n",
            "/usr/local/lib/python3.6/dist-packages/sklearn/linear_model/_logistic.py:1505: UserWarning: Setting penalty='none' will ignore the C and l1_ratio parameters\n",
            "  \"Setting penalty='none' will ignore the C and l1_ratio \"\n",
            "[Parallel(n_jobs=1)]: Using backend SequentialBackend with 1 concurrent workers.\n",
            "[Parallel(n_jobs=1)]: Done   1 out of   1 | elapsed:    0.3s finished\n",
            "/usr/local/lib/python3.6/dist-packages/sklearn/linear_model/_logistic.py:1501: UserWarning: l1_ratio parameter is only used when penalty is 'elasticnet'. Got (penalty=none)\n",
            "  \"(penalty={})\".format(self.penalty))\n",
            "/usr/local/lib/python3.6/dist-packages/sklearn/linear_model/_logistic.py:1505: UserWarning: Setting penalty='none' will ignore the C and l1_ratio parameters\n",
            "  \"Setting penalty='none' will ignore the C and l1_ratio \"\n",
            "[Parallel(n_jobs=1)]: Using backend SequentialBackend with 1 concurrent workers.\n",
            "[Parallel(n_jobs=1)]: Done   1 out of   1 | elapsed:    0.3s finished\n",
            "/usr/local/lib/python3.6/dist-packages/sklearn/linear_model/_logistic.py:1501: UserWarning: l1_ratio parameter is only used when penalty is 'elasticnet'. Got (penalty=none)\n",
            "  \"(penalty={})\".format(self.penalty))\n",
            "/usr/local/lib/python3.6/dist-packages/sklearn/linear_model/_logistic.py:1505: UserWarning: Setting penalty='none' will ignore the C and l1_ratio parameters\n",
            "  \"Setting penalty='none' will ignore the C and l1_ratio \"\n",
            "[Parallel(n_jobs=1)]: Using backend SequentialBackend with 1 concurrent workers.\n",
            "[Parallel(n_jobs=1)]: Done   1 out of   1 | elapsed:    0.3s finished\n",
            "/usr/local/lib/python3.6/dist-packages/sklearn/model_selection/_validation.py:536: FitFailedWarning: Estimator fit failed. The score on this train-test partition for these parameters will be set to nan. Details: \n",
            "ValueError: Solver saga supports only dual=False, got dual=True\n",
            "\n",
            "  FitFailedWarning)\n",
            "/usr/local/lib/python3.6/dist-packages/sklearn/model_selection/_validation.py:536: FitFailedWarning: Estimator fit failed. The score on this train-test partition for these parameters will be set to nan. Details: \n",
            "ValueError: Logistic Regression supports only penalties in ['l1', 'l2', 'elasticnet', 'none'], got liblinear.\n",
            "\n",
            "  FitFailedWarning)\n",
            "/usr/local/lib/python3.6/dist-packages/sklearn/model_selection/_validation.py:536: FitFailedWarning: Estimator fit failed. The score on this train-test partition for these parameters will be set to nan. Details: \n",
            "ValueError: penalty='none' is not supported for the liblinear solver\n",
            "\n",
            "  FitFailedWarning)\n",
            "/usr/local/lib/python3.6/dist-packages/sklearn/linear_model/_logistic.py:1501: UserWarning: l1_ratio parameter is only used when penalty is 'elasticnet'. Got (penalty=l2)\n",
            "  \"(penalty={})\".format(self.penalty))\n",
            "[Parallel(n_jobs=1)]: Using backend SequentialBackend with 1 concurrent workers.\n"
          ],
          "name": "stderr"
        },
        {
          "output_type": "stream",
          "text": [
            "convergence after 124 epochs took 1 seconds\n"
          ],
          "name": "stdout"
        },
        {
          "output_type": "stream",
          "text": [
            "[Parallel(n_jobs=1)]: Done   1 out of   1 | elapsed:    0.2s finished\n",
            "/usr/local/lib/python3.6/dist-packages/sklearn/linear_model/_logistic.py:1501: UserWarning: l1_ratio parameter is only used when penalty is 'elasticnet'. Got (penalty=l2)\n",
            "  \"(penalty={})\".format(self.penalty))\n",
            "[Parallel(n_jobs=1)]: Using backend SequentialBackend with 1 concurrent workers.\n"
          ],
          "name": "stderr"
        },
        {
          "output_type": "stream",
          "text": [
            "convergence after 123 epochs took 0 seconds\n",
            "convergence after 123 epochs took 0 seconds\n"
          ],
          "name": "stdout"
        },
        {
          "output_type": "stream",
          "text": [
            "[Parallel(n_jobs=1)]: Done   1 out of   1 | elapsed:    0.2s finished\n",
            "/usr/local/lib/python3.6/dist-packages/sklearn/linear_model/_logistic.py:1501: UserWarning: l1_ratio parameter is only used when penalty is 'elasticnet'. Got (penalty=l2)\n",
            "  \"(penalty={})\".format(self.penalty))\n",
            "[Parallel(n_jobs=1)]: Using backend SequentialBackend with 1 concurrent workers.\n",
            "[Parallel(n_jobs=1)]: Done   1 out of   1 | elapsed:    0.2s finished\n",
            "/usr/local/lib/python3.6/dist-packages/sklearn/linear_model/_logistic.py:1501: UserWarning: l1_ratio parameter is only used when penalty is 'elasticnet'. Got (penalty=l2)\n",
            "  \"(penalty={})\".format(self.penalty))\n",
            "[Parallel(n_jobs=1)]: Using backend SequentialBackend with 1 concurrent workers.\n"
          ],
          "name": "stderr"
        },
        {
          "output_type": "stream",
          "text": [
            "convergence after 123 epochs took 0 seconds\n"
          ],
          "name": "stdout"
        },
        {
          "output_type": "stream",
          "text": [
            "[Parallel(n_jobs=1)]: Done   1 out of   1 | elapsed:    0.2s finished\n",
            "/usr/local/lib/python3.6/dist-packages/sklearn/linear_model/_logistic.py:1501: UserWarning: l1_ratio parameter is only used when penalty is 'elasticnet'. Got (penalty=l2)\n",
            "  \"(penalty={})\".format(self.penalty))\n",
            "[Parallel(n_jobs=1)]: Using backend SequentialBackend with 1 concurrent workers.\n"
          ],
          "name": "stderr"
        },
        {
          "output_type": "stream",
          "text": [
            "convergence after 123 epochs took 0 seconds\n"
          ],
          "name": "stdout"
        },
        {
          "output_type": "stream",
          "text": [
            "[Parallel(n_jobs=1)]: Done   1 out of   1 | elapsed:    0.2s finished\n",
            "/usr/local/lib/python3.6/dist-packages/sklearn/model_selection/_validation.py:536: FitFailedWarning: Estimator fit failed. The score on this train-test partition for these parameters will be set to nan. Details: \n",
            "ValueError: Solver sag supports only dual=False, got dual=True\n",
            "\n",
            "  FitFailedWarning)\n",
            "/usr/local/lib/python3.6/dist-packages/sklearn/model_selection/_validation.py:536: FitFailedWarning: Estimator fit failed. The score on this train-test partition for these parameters will be set to nan. Details: \n",
            "ValueError: Solver lbfgs supports only 'l2' or 'none' penalties, got l1 penalty.\n",
            "\n",
            "  FitFailedWarning)\n",
            "/usr/local/lib/python3.6/dist-packages/sklearn/model_selection/_validation.py:536: FitFailedWarning: Estimator fit failed. The score on this train-test partition for these parameters will be set to nan. Details: \n",
            "ValueError: Logistic Regression supports only penalties in ['l1', 'l2', 'elasticnet', 'none'], got liblinear.\n",
            "\n",
            "  FitFailedWarning)\n",
            "/usr/local/lib/python3.6/dist-packages/sklearn/linear_model/_logistic.py:1501: UserWarning: l1_ratio parameter is only used when penalty is 'elasticnet'. Got (penalty=none)\n",
            "  \"(penalty={})\".format(self.penalty))\n",
            "/usr/local/lib/python3.6/dist-packages/sklearn/linear_model/_logistic.py:1505: UserWarning: Setting penalty='none' will ignore the C and l1_ratio parameters\n",
            "  \"Setting penalty='none' will ignore the C and l1_ratio \"\n",
            "[Parallel(n_jobs=1)]: Using backend SequentialBackend with 1 concurrent workers.\n",
            "[Parallel(n_jobs=1)]: Done   1 out of   1 | elapsed:    0.3s finished\n"
          ],
          "name": "stderr"
        },
        {
          "output_type": "execute_result",
          "data": {
            "text/plain": [
              "RandomizedSearchCV(cv=None, error_score=nan,\n",
              "                   estimator=LogisticRegression(C=1.0, class_weight=None,\n",
              "                                                dual=False, fit_intercept=True,\n",
              "                                                intercept_scaling=1,\n",
              "                                                l1_ratio=None, max_iter=100,\n",
              "                                                multi_class='auto', n_jobs=None,\n",
              "                                                penalty='l2', random_state=None,\n",
              "                                                solver='lbfgs', tol=0.0001,\n",
              "                                                verbose=0, warm_start=False),\n",
              "                   iid='deprecated', n_iter=10, n_jobs=None,\n",
              "                   param_distributions={'...\n",
              "                                        'multi_class': ['auto', 'ovr',\n",
              "                                                        'multinominal'],\n",
              "                                        'penalty': ['l1', 'l2', 'none',\n",
              "                                                    'liblinear'],\n",
              "                                        'random_state': [46, 48],\n",
              "                                        'solver': ['newton-cg', 'lbfgs',\n",
              "                                                   'liblinear', 'sag', 'saga'],\n",
              "                                        'tol': [0.0001, 0.001, 0.01, 0.1, 1],\n",
              "                                        'verbose': [0.0001, 0.001, 0.01, 0.1,\n",
              "                                                    1],\n",
              "                                        'warm_start': [True, False]},\n",
              "                   pre_dispatch='2*n_jobs', random_state=None, refit=True,\n",
              "                   return_train_score=False, scoring=None, verbose=0)"
            ]
          },
          "metadata": {
            "tags": []
          },
          "execution_count": 81
        }
      ]
    },
    {
      "cell_type": "code",
      "metadata": {
        "id": "PwJ6e6km2ZHU",
        "colab_type": "code",
        "colab": {
          "base_uri": "https://localhost:8080/",
          "height": 263
        },
        "outputId": "253467cb-1742-4c35-84f8-90f01c8a5b27"
      },
      "source": [
        "clf_grid.best_params_"
      ],
      "execution_count": 82,
      "outputs": [
        {
          "output_type": "execute_result",
          "data": {
            "text/plain": [
              "{'C': 0.01,\n",
              " 'class_weight': 'dict',\n",
              " 'dual': False,\n",
              " 'fit_intercept': False,\n",
              " 'intercept_scaling': 0.001,\n",
              " 'l1_ratio': 0.01,\n",
              " 'max_iter': 1000,\n",
              " 'multi_class': 'ovr',\n",
              " 'penalty': 'none',\n",
              " 'random_state': 48,\n",
              " 'solver': 'newton-cg',\n",
              " 'tol': 0.0001,\n",
              " 'verbose': 0.1,\n",
              " 'warm_start': False}"
            ]
          },
          "metadata": {
            "tags": []
          },
          "execution_count": 82
        }
      ]
    },
    {
      "cell_type": "code",
      "metadata": {
        "id": "okijhbRl2r3V",
        "colab_type": "code",
        "colab": {
          "base_uri": "https://localhost:8080/",
          "height": 263
        },
        "outputId": "6abb0426-d3d6-490f-931b-0fe0360dc043"
      },
      "source": [
        "clf_new.best_params_"
      ],
      "execution_count": 84,
      "outputs": [
        {
          "output_type": "execute_result",
          "data": {
            "text/plain": [
              "{'C': 0.1,\n",
              " 'class_weight': 'balanced',\n",
              " 'dual': False,\n",
              " 'fit_intercept': False,\n",
              " 'intercept_scaling': 0.001,\n",
              " 'l1_ratio': 0.0001,\n",
              " 'max_iter': 1000,\n",
              " 'multi_class': 'ovr',\n",
              " 'penalty': 'none',\n",
              " 'random_state': 48,\n",
              " 'solver': 'lbfgs',\n",
              " 'tol': 1,\n",
              " 'verbose': 1,\n",
              " 'warm_start': True}"
            ]
          },
          "metadata": {
            "tags": []
          },
          "execution_count": 84
        }
      ]
    },
    {
      "cell_type": "code",
      "metadata": {
        "id": "yH8N2gmr2uC2",
        "colab_type": "code",
        "colab": {
          "base_uri": "https://localhost:8080/",
          "height": 175
        },
        "outputId": "a083a6d3-487c-47f7-f257-59cbf8492098"
      },
      "source": [
        "print(classification_report(y_test,clf_grid.predict(X_test)))"
      ],
      "execution_count": 85,
      "outputs": [
        {
          "output_type": "stream",
          "text": [
            "              precision    recall  f1-score   support\n",
            "\n",
            "          no       0.87      0.84      0.85       965\n",
            "         yes       0.84      0.87      0.86       964\n",
            "\n",
            "    accuracy                           0.85      1929\n",
            "   macro avg       0.86      0.85      0.85      1929\n",
            "weighted avg       0.86      0.85      0.85      1929\n",
            "\n"
          ],
          "name": "stdout"
        }
      ]
    },
    {
      "cell_type": "code",
      "metadata": {
        "id": "GuFzpizD24xd",
        "colab_type": "code",
        "colab": {
          "base_uri": "https://localhost:8080/",
          "height": 52
        },
        "outputId": "46cffcad-e084-4ee4-9629-00754c6e0b62"
      },
      "source": [
        "confusion_matrix(y_test,clf_grid.predict(X_test))"
      ],
      "execution_count": 87,
      "outputs": [
        {
          "output_type": "execute_result",
          "data": {
            "text/plain": [
              "array([[807, 158],\n",
              "       [122, 842]])"
            ]
          },
          "metadata": {
            "tags": []
          },
          "execution_count": 87
        }
      ]
    },
    {
      "cell_type": "code",
      "metadata": {
        "id": "cCdPAHqd3FwH",
        "colab_type": "code",
        "colab": {
          "base_uri": "https://localhost:8080/",
          "height": 35
        },
        "outputId": "1f6ae824-65e8-4ecd-8061-6578f0694e07"
      },
      "source": [
        "accuracy_score(y_test,clf_grid.predict(X_test))"
      ],
      "execution_count": 88,
      "outputs": [
        {
          "output_type": "execute_result",
          "data": {
            "text/plain": [
              "0.8548470710212546"
            ]
          },
          "metadata": {
            "tags": []
          },
          "execution_count": 88
        }
      ]
    },
    {
      "cell_type": "markdown",
      "metadata": {
        "id": "rerYMnjQ3Wnx",
        "colab_type": "text"
      },
      "source": [
        "Lets compare our model Classification report\n"
      ]
    },
    {
      "cell_type": "code",
      "metadata": {
        "id": "DWa2XlmX3dA8",
        "colab_type": "code",
        "colab": {
          "base_uri": "https://localhost:8080/",
          "height": 177
        },
        "outputId": "691e9df4-50fe-4396-eb1f-ee59fec9c9a4"
      },
      "source": [
        "print(classification_report(y_test,clf.predict(X_test)))"
      ],
      "execution_count": 89,
      "outputs": [
        {
          "output_type": "stream",
          "text": [
            "              precision    recall  f1-score   support\n",
            "\n",
            "          no       0.86      0.84      0.85       965\n",
            "         yes       0.84      0.86      0.85       964\n",
            "\n",
            "    accuracy                           0.85      1929\n",
            "   macro avg       0.85      0.85      0.85      1929\n",
            "weighted avg       0.85      0.85      0.85      1929\n",
            "\n"
          ],
          "name": "stdout"
        }
      ]
    },
    {
      "cell_type": "code",
      "metadata": {
        "id": "s7UI264v3iVk",
        "colab_type": "code",
        "colab": {
          "base_uri": "https://localhost:8080/",
          "height": 177
        },
        "outputId": "b3e5a41c-521c-4b1d-94c0-24cf068e5003"
      },
      "source": [
        "print(classification_report(y_test,clf_new.predict(X_test)))"
      ],
      "execution_count": 90,
      "outputs": [
        {
          "output_type": "stream",
          "text": [
            "              precision    recall  f1-score   support\n",
            "\n",
            "          no       0.87      0.84      0.85       965\n",
            "         yes       0.84      0.87      0.86       964\n",
            "\n",
            "    accuracy                           0.85      1929\n",
            "   macro avg       0.85      0.85      0.85      1929\n",
            "weighted avg       0.85      0.85      0.85      1929\n",
            "\n"
          ],
          "name": "stdout"
        }
      ]
    },
    {
      "cell_type": "code",
      "metadata": {
        "id": "ESV8hMXD3i0O",
        "colab_type": "code",
        "colab": {
          "base_uri": "https://localhost:8080/",
          "height": 177
        },
        "outputId": "99b624bd-c61d-4e7d-f6bb-4d83654f17d7"
      },
      "source": [
        "print(classification_report(y_test,clf_grid.predict(X_test)))"
      ],
      "execution_count": 91,
      "outputs": [
        {
          "output_type": "stream",
          "text": [
            "              precision    recall  f1-score   support\n",
            "\n",
            "          no       0.87      0.84      0.85       965\n",
            "         yes       0.84      0.87      0.86       964\n",
            "\n",
            "    accuracy                           0.85      1929\n",
            "   macro avg       0.86      0.85      0.85      1929\n",
            "weighted avg       0.86      0.85      0.85      1929\n",
            "\n"
          ],
          "name": "stdout"
        }
      ]
    }
  ]
}