{
 "nbformat": 4,
 "nbformat_minor": 2,
 "metadata": {
  "language_info": {
   "name": "python",
   "codemirror_mode": {
    "name": "ipython",
    "version": 3
   }
  },
  "orig_nbformat": 2,
  "file_extension": ".py",
  "mimetype": "text/x-python",
  "name": "python",
  "npconvert_exporter": "python",
  "pygments_lexer": "ipython3",
  "version": 3
 },
 "cells": [
  {
   "cell_type": "markdown",
   "metadata": {},
   "source": [
    "# THIS REPOSITORY IS CREATED BY:\n",
    "1. Sebastian Cahyo Ardhi Iswara 1103174174\n",
    "2. Adli Farhan Ibrahim 110317\n",
    "\n",
    "# The workflow of this machine learning task:\n",
    "1. Data Collection\n",
    "2. Data Preprocessing\n",
    "3. Data Normalization\n",
    "4. Model Training\n",
    "5. Model Validation\n",
    "\n",
    "# Dependency to run this project:\n",
    "1. Python 3.XX (Im using 3.77)\n",
    "2. Jupyterlab (For run ipynb / notebook)\n",
    "3. Pandas (For data analysis and processing)\n",
    "4. matplotlib (For data visualization and Dependency for seaborn)\n",
    "5. seaborn (For data visualization)\n",
    "4. Sklearn (For data preprocessing and machine learning algorithm)"
   ]
  }
 ]
}